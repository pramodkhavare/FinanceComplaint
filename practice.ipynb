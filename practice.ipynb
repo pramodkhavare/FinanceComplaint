{
 "cells": [
  {
   "cell_type": "code",
   "execution_count": null,
   "metadata": {},
   "outputs": [],
   "source": [
    "url =f\"https://www.consumerfinance.gov/data-research/consumer-complaints/search/api/v1/\" \\\n",
    "                      f\"?date_received_max=<todate>&date_received_min=<fromdate>\" \\\n",
    "                      f\"&field=all&format=json\""
   ]
  },
  {
   "cell_type": "code",
   "execution_count": 1,
   "metadata": {},
   "outputs": [
    {
     "ename": "KeyboardInterrupt",
     "evalue": "",
     "output_type": "error",
     "traceback": [
      "\u001b[1;31m---------------------------------------------------------------------------\u001b[0m",
      "\u001b[1;31mKeyboardInterrupt\u001b[0m                         Traceback (most recent call last)",
      "Cell \u001b[1;32mIn[1], line 19\u001b[0m\n\u001b[0;32m     16\u001b[0m to_date \u001b[38;5;241m=\u001b[39m \u001b[38;5;124m\"\u001b[39m\u001b[38;5;124m2024-06-21\u001b[39m\u001b[38;5;124m\"\u001b[39m\n\u001b[0;32m     18\u001b[0m \u001b[38;5;28;01mtry\u001b[39;00m:\n\u001b[1;32m---> 19\u001b[0m     complaints_data \u001b[38;5;241m=\u001b[39m \u001b[43mfetch_consumer_complaints\u001b[49m\u001b[43m(\u001b[49m\u001b[43mfrom_date\u001b[49m\u001b[43m,\u001b[49m\u001b[43m \u001b[49m\u001b[43mto_date\u001b[49m\u001b[43m)\u001b[49m\n\u001b[0;32m     20\u001b[0m     \u001b[38;5;28mprint\u001b[39m(complaints_data)\n\u001b[0;32m     21\u001b[0m \u001b[38;5;28;01mexcept\u001b[39;00m \u001b[38;5;167;01mException\u001b[39;00m \u001b[38;5;28;01mas\u001b[39;00m e:\n",
      "Cell \u001b[1;32mIn[1], line 7\u001b[0m, in \u001b[0;36mfetch_consumer_complaints\u001b[1;34m(from_date, to_date)\u001b[0m\n\u001b[0;32m      4\u001b[0m base_url \u001b[38;5;241m=\u001b[39m \u001b[38;5;124m\"\u001b[39m\u001b[38;5;124mhttps://www.consumerfinance.gov/data-research/consumer-complaints/search/api/v1/\u001b[39m\u001b[38;5;124m\"\u001b[39m\n\u001b[0;32m      5\u001b[0m formatted_url \u001b[38;5;241m=\u001b[39m \u001b[38;5;124mf\u001b[39m\u001b[38;5;124m\"\u001b[39m\u001b[38;5;132;01m{\u001b[39;00mbase_url\u001b[38;5;132;01m}\u001b[39;00m\u001b[38;5;124m?date_received_max=\u001b[39m\u001b[38;5;132;01m{\u001b[39;00mto_date\u001b[38;5;132;01m}\u001b[39;00m\u001b[38;5;124m&date_received_min=\u001b[39m\u001b[38;5;132;01m{\u001b[39;00mfrom_date\u001b[38;5;132;01m}\u001b[39;00m\u001b[38;5;124m&field=all&format=json\u001b[39m\u001b[38;5;124m\"\u001b[39m\n\u001b[1;32m----> 7\u001b[0m response \u001b[38;5;241m=\u001b[39m \u001b[43mrequests\u001b[49m\u001b[38;5;241;43m.\u001b[39;49m\u001b[43mget\u001b[49m\u001b[43m(\u001b[49m\u001b[43mformatted_url\u001b[49m\u001b[43m)\u001b[49m\n\u001b[0;32m      9\u001b[0m \u001b[38;5;28;01mif\u001b[39;00m response\u001b[38;5;241m.\u001b[39mstatus_code \u001b[38;5;241m==\u001b[39m \u001b[38;5;241m200\u001b[39m:\n\u001b[0;32m     10\u001b[0m     \u001b[38;5;28;01mreturn\u001b[39;00m response\u001b[38;5;241m.\u001b[39mjson()\n",
      "File \u001b[1;32md:\\Data Science\\MachineLearning\\Project\\FinancialInstituePrediction\\venv\\lib\\site-packages\\requests\\api.py:73\u001b[0m, in \u001b[0;36mget\u001b[1;34m(url, params, **kwargs)\u001b[0m\n\u001b[0;32m     62\u001b[0m \u001b[38;5;28;01mdef\u001b[39;00m \u001b[38;5;21mget\u001b[39m(url, params\u001b[38;5;241m=\u001b[39m\u001b[38;5;28;01mNone\u001b[39;00m, \u001b[38;5;241m*\u001b[39m\u001b[38;5;241m*\u001b[39mkwargs):\n\u001b[0;32m     63\u001b[0m \u001b[38;5;250m    \u001b[39m\u001b[38;5;124mr\u001b[39m\u001b[38;5;124;03m\"\"\"Sends a GET request.\u001b[39;00m\n\u001b[0;32m     64\u001b[0m \n\u001b[0;32m     65\u001b[0m \u001b[38;5;124;03m    :param url: URL for the new :class:`Request` object.\u001b[39;00m\n\u001b[1;32m   (...)\u001b[0m\n\u001b[0;32m     70\u001b[0m \u001b[38;5;124;03m    :rtype: requests.Response\u001b[39;00m\n\u001b[0;32m     71\u001b[0m \u001b[38;5;124;03m    \"\"\"\u001b[39;00m\n\u001b[1;32m---> 73\u001b[0m     \u001b[38;5;28;01mreturn\u001b[39;00m request(\u001b[38;5;124m\"\u001b[39m\u001b[38;5;124mget\u001b[39m\u001b[38;5;124m\"\u001b[39m, url, params\u001b[38;5;241m=\u001b[39mparams, \u001b[38;5;241m*\u001b[39m\u001b[38;5;241m*\u001b[39mkwargs)\n",
      "File \u001b[1;32md:\\Data Science\\MachineLearning\\Project\\FinancialInstituePrediction\\venv\\lib\\site-packages\\requests\\api.py:59\u001b[0m, in \u001b[0;36mrequest\u001b[1;34m(method, url, **kwargs)\u001b[0m\n\u001b[0;32m     55\u001b[0m \u001b[38;5;66;03m# By using the 'with' statement we are sure the session is closed, thus we\u001b[39;00m\n\u001b[0;32m     56\u001b[0m \u001b[38;5;66;03m# avoid leaving sockets open which can trigger a ResourceWarning in some\u001b[39;00m\n\u001b[0;32m     57\u001b[0m \u001b[38;5;66;03m# cases, and look like a memory leak in others.\u001b[39;00m\n\u001b[0;32m     58\u001b[0m \u001b[38;5;28;01mwith\u001b[39;00m sessions\u001b[38;5;241m.\u001b[39mSession() \u001b[38;5;28;01mas\u001b[39;00m session:\n\u001b[1;32m---> 59\u001b[0m     \u001b[38;5;28;01mreturn\u001b[39;00m session\u001b[38;5;241m.\u001b[39mrequest(method\u001b[38;5;241m=\u001b[39mmethod, url\u001b[38;5;241m=\u001b[39murl, \u001b[38;5;241m*\u001b[39m\u001b[38;5;241m*\u001b[39mkwargs)\n",
      "File \u001b[1;32md:\\Data Science\\MachineLearning\\Project\\FinancialInstituePrediction\\venv\\lib\\site-packages\\requests\\sessions.py:587\u001b[0m, in \u001b[0;36mSession.request\u001b[1;34m(self, method, url, params, data, headers, cookies, files, auth, timeout, allow_redirects, proxies, hooks, stream, verify, cert, json)\u001b[0m\n\u001b[0;32m    582\u001b[0m send_kwargs \u001b[38;5;241m=\u001b[39m {\n\u001b[0;32m    583\u001b[0m     \u001b[38;5;124m\"\u001b[39m\u001b[38;5;124mtimeout\u001b[39m\u001b[38;5;124m\"\u001b[39m: timeout,\n\u001b[0;32m    584\u001b[0m     \u001b[38;5;124m\"\u001b[39m\u001b[38;5;124mallow_redirects\u001b[39m\u001b[38;5;124m\"\u001b[39m: allow_redirects,\n\u001b[0;32m    585\u001b[0m }\n\u001b[0;32m    586\u001b[0m send_kwargs\u001b[38;5;241m.\u001b[39mupdate(settings)\n\u001b[1;32m--> 587\u001b[0m resp \u001b[38;5;241m=\u001b[39m \u001b[38;5;28mself\u001b[39m\u001b[38;5;241m.\u001b[39msend(prep, \u001b[38;5;241m*\u001b[39m\u001b[38;5;241m*\u001b[39msend_kwargs)\n\u001b[0;32m    589\u001b[0m \u001b[38;5;28;01mreturn\u001b[39;00m resp\n",
      "File \u001b[1;32md:\\Data Science\\MachineLearning\\Project\\FinancialInstituePrediction\\venv\\lib\\site-packages\\requests\\sessions.py:745\u001b[0m, in \u001b[0;36mSession.send\u001b[1;34m(self, request, **kwargs)\u001b[0m\n\u001b[0;32m    742\u001b[0m         \u001b[38;5;28;01mpass\u001b[39;00m\n\u001b[0;32m    744\u001b[0m \u001b[38;5;28;01mif\u001b[39;00m \u001b[38;5;129;01mnot\u001b[39;00m stream:\n\u001b[1;32m--> 745\u001b[0m     \u001b[43mr\u001b[49m\u001b[38;5;241;43m.\u001b[39;49m\u001b[43mcontent\u001b[49m\n\u001b[0;32m    747\u001b[0m \u001b[38;5;28;01mreturn\u001b[39;00m r\n",
      "File \u001b[1;32md:\\Data Science\\MachineLearning\\Project\\FinancialInstituePrediction\\venv\\lib\\site-packages\\requests\\models.py:899\u001b[0m, in \u001b[0;36mResponse.content\u001b[1;34m(self)\u001b[0m\n\u001b[0;32m    897\u001b[0m         \u001b[38;5;28mself\u001b[39m\u001b[38;5;241m.\u001b[39m_content \u001b[38;5;241m=\u001b[39m \u001b[38;5;28;01mNone\u001b[39;00m\n\u001b[0;32m    898\u001b[0m     \u001b[38;5;28;01melse\u001b[39;00m:\n\u001b[1;32m--> 899\u001b[0m         \u001b[38;5;28mself\u001b[39m\u001b[38;5;241m.\u001b[39m_content \u001b[38;5;241m=\u001b[39m \u001b[38;5;124;43mb\u001b[39;49m\u001b[38;5;124;43m\"\u001b[39;49m\u001b[38;5;124;43m\"\u001b[39;49m\u001b[38;5;241;43m.\u001b[39;49m\u001b[43mjoin\u001b[49m\u001b[43m(\u001b[49m\u001b[38;5;28;43mself\u001b[39;49m\u001b[38;5;241;43m.\u001b[39;49m\u001b[43miter_content\u001b[49m\u001b[43m(\u001b[49m\u001b[43mCONTENT_CHUNK_SIZE\u001b[49m\u001b[43m)\u001b[49m\u001b[43m)\u001b[49m \u001b[38;5;129;01mor\u001b[39;00m \u001b[38;5;124mb\u001b[39m\u001b[38;5;124m\"\u001b[39m\u001b[38;5;124m\"\u001b[39m\n\u001b[0;32m    901\u001b[0m \u001b[38;5;28mself\u001b[39m\u001b[38;5;241m.\u001b[39m_content_consumed \u001b[38;5;241m=\u001b[39m \u001b[38;5;28;01mTrue\u001b[39;00m\n\u001b[0;32m    902\u001b[0m \u001b[38;5;66;03m# don't need to release the connection; that's been handled by urllib3\u001b[39;00m\n\u001b[0;32m    903\u001b[0m \u001b[38;5;66;03m# since we exhausted the data.\u001b[39;00m\n",
      "File \u001b[1;32md:\\Data Science\\MachineLearning\\Project\\FinancialInstituePrediction\\venv\\lib\\site-packages\\requests\\models.py:816\u001b[0m, in \u001b[0;36mResponse.iter_content.<locals>.generate\u001b[1;34m()\u001b[0m\n\u001b[0;32m    814\u001b[0m \u001b[38;5;28;01mif\u001b[39;00m \u001b[38;5;28mhasattr\u001b[39m(\u001b[38;5;28mself\u001b[39m\u001b[38;5;241m.\u001b[39mraw, \u001b[38;5;124m\"\u001b[39m\u001b[38;5;124mstream\u001b[39m\u001b[38;5;124m\"\u001b[39m):\n\u001b[0;32m    815\u001b[0m     \u001b[38;5;28;01mtry\u001b[39;00m:\n\u001b[1;32m--> 816\u001b[0m         \u001b[38;5;28;01myield from\u001b[39;00m \u001b[38;5;28mself\u001b[39m\u001b[38;5;241m.\u001b[39mraw\u001b[38;5;241m.\u001b[39mstream(chunk_size, decode_content\u001b[38;5;241m=\u001b[39m\u001b[38;5;28;01mTrue\u001b[39;00m)\n\u001b[0;32m    817\u001b[0m     \u001b[38;5;28;01mexcept\u001b[39;00m ProtocolError \u001b[38;5;28;01mas\u001b[39;00m e:\n\u001b[0;32m    818\u001b[0m         \u001b[38;5;28;01mraise\u001b[39;00m ChunkedEncodingError(e)\n",
      "File \u001b[1;32md:\\Data Science\\MachineLearning\\Project\\FinancialInstituePrediction\\venv\\lib\\site-packages\\urllib3\\response.py:624\u001b[0m, in \u001b[0;36mHTTPResponse.stream\u001b[1;34m(self, amt, decode_content)\u001b[0m\n\u001b[0;32m    608\u001b[0m \u001b[38;5;250m\u001b[39m\u001b[38;5;124;03m\"\"\"\u001b[39;00m\n\u001b[0;32m    609\u001b[0m \u001b[38;5;124;03mA generator wrapper for the read() method. A call will block until\u001b[39;00m\n\u001b[0;32m    610\u001b[0m \u001b[38;5;124;03m``amt`` bytes have been read from the connection or until the\u001b[39;00m\n\u001b[1;32m   (...)\u001b[0m\n\u001b[0;32m    621\u001b[0m \u001b[38;5;124;03m    'content-encoding' header.\u001b[39;00m\n\u001b[0;32m    622\u001b[0m \u001b[38;5;124;03m\"\"\"\u001b[39;00m\n\u001b[0;32m    623\u001b[0m \u001b[38;5;28;01mif\u001b[39;00m \u001b[38;5;28mself\u001b[39m\u001b[38;5;241m.\u001b[39mchunked \u001b[38;5;129;01mand\u001b[39;00m \u001b[38;5;28mself\u001b[39m\u001b[38;5;241m.\u001b[39msupports_chunked_reads():\n\u001b[1;32m--> 624\u001b[0m     \u001b[38;5;28;01mfor\u001b[39;00m line \u001b[38;5;129;01min\u001b[39;00m \u001b[38;5;28mself\u001b[39m\u001b[38;5;241m.\u001b[39mread_chunked(amt, decode_content\u001b[38;5;241m=\u001b[39mdecode_content):\n\u001b[0;32m    625\u001b[0m         \u001b[38;5;28;01myield\u001b[39;00m line\n\u001b[0;32m    626\u001b[0m \u001b[38;5;28;01melse\u001b[39;00m:\n",
      "File \u001b[1;32md:\\Data Science\\MachineLearning\\Project\\FinancialInstituePrediction\\venv\\lib\\site-packages\\urllib3\\response.py:831\u001b[0m, in \u001b[0;36mHTTPResponse.read_chunked\u001b[1;34m(self, amt, decode_content)\u001b[0m\n\u001b[0;32m    829\u001b[0m \u001b[38;5;28;01mif\u001b[39;00m \u001b[38;5;28mself\u001b[39m\u001b[38;5;241m.\u001b[39mchunk_left \u001b[38;5;241m==\u001b[39m \u001b[38;5;241m0\u001b[39m:\n\u001b[0;32m    830\u001b[0m     \u001b[38;5;28;01mbreak\u001b[39;00m\n\u001b[1;32m--> 831\u001b[0m chunk \u001b[38;5;241m=\u001b[39m \u001b[38;5;28;43mself\u001b[39;49m\u001b[38;5;241;43m.\u001b[39;49m\u001b[43m_handle_chunk\u001b[49m\u001b[43m(\u001b[49m\u001b[43mamt\u001b[49m\u001b[43m)\u001b[49m\n\u001b[0;32m    832\u001b[0m decoded \u001b[38;5;241m=\u001b[39m \u001b[38;5;28mself\u001b[39m\u001b[38;5;241m.\u001b[39m_decode(\n\u001b[0;32m    833\u001b[0m     chunk, decode_content\u001b[38;5;241m=\u001b[39mdecode_content, flush_decoder\u001b[38;5;241m=\u001b[39m\u001b[38;5;28;01mFalse\u001b[39;00m\n\u001b[0;32m    834\u001b[0m )\n\u001b[0;32m    835\u001b[0m \u001b[38;5;28;01mif\u001b[39;00m decoded:\n",
      "File \u001b[1;32md:\\Data Science\\MachineLearning\\Project\\FinancialInstituePrediction\\venv\\lib\\site-packages\\urllib3\\response.py:775\u001b[0m, in \u001b[0;36mHTTPResponse._handle_chunk\u001b[1;34m(self, amt)\u001b[0m\n\u001b[0;32m    773\u001b[0m     \u001b[38;5;28mself\u001b[39m\u001b[38;5;241m.\u001b[39mchunk_left \u001b[38;5;241m=\u001b[39m \u001b[38;5;28;01mNone\u001b[39;00m\n\u001b[0;32m    774\u001b[0m \u001b[38;5;28;01melif\u001b[39;00m amt \u001b[38;5;241m<\u001b[39m \u001b[38;5;28mself\u001b[39m\u001b[38;5;241m.\u001b[39mchunk_left:\n\u001b[1;32m--> 775\u001b[0m     value \u001b[38;5;241m=\u001b[39m \u001b[38;5;28;43mself\u001b[39;49m\u001b[38;5;241;43m.\u001b[39;49m\u001b[43m_fp\u001b[49m\u001b[38;5;241;43m.\u001b[39;49m\u001b[43m_safe_read\u001b[49m\u001b[43m(\u001b[49m\u001b[43mamt\u001b[49m\u001b[43m)\u001b[49m\n\u001b[0;32m    776\u001b[0m     \u001b[38;5;28mself\u001b[39m\u001b[38;5;241m.\u001b[39mchunk_left \u001b[38;5;241m=\u001b[39m \u001b[38;5;28mself\u001b[39m\u001b[38;5;241m.\u001b[39mchunk_left \u001b[38;5;241m-\u001b[39m amt\n\u001b[0;32m    777\u001b[0m     returned_chunk \u001b[38;5;241m=\u001b[39m value\n",
      "File \u001b[1;32mC:\\Program Files\\Python310\\lib\\http\\client.py:629\u001b[0m, in \u001b[0;36mHTTPResponse._safe_read\u001b[1;34m(self, amt)\u001b[0m\n\u001b[0;32m    622\u001b[0m \u001b[38;5;28;01mdef\u001b[39;00m \u001b[38;5;21m_safe_read\u001b[39m(\u001b[38;5;28mself\u001b[39m, amt):\n\u001b[0;32m    623\u001b[0m \u001b[38;5;250m    \u001b[39m\u001b[38;5;124;03m\"\"\"Read the number of bytes requested.\u001b[39;00m\n\u001b[0;32m    624\u001b[0m \n\u001b[0;32m    625\u001b[0m \u001b[38;5;124;03m    This function should be used when <amt> bytes \"should\" be present for\u001b[39;00m\n\u001b[0;32m    626\u001b[0m \u001b[38;5;124;03m    reading. If the bytes are truly not available (due to EOF), then the\u001b[39;00m\n\u001b[0;32m    627\u001b[0m \u001b[38;5;124;03m    IncompleteRead exception can be used to detect the problem.\u001b[39;00m\n\u001b[0;32m    628\u001b[0m \u001b[38;5;124;03m    \"\"\"\u001b[39;00m\n\u001b[1;32m--> 629\u001b[0m     data \u001b[38;5;241m=\u001b[39m \u001b[38;5;28;43mself\u001b[39;49m\u001b[38;5;241;43m.\u001b[39;49m\u001b[43mfp\u001b[49m\u001b[38;5;241;43m.\u001b[39;49m\u001b[43mread\u001b[49m\u001b[43m(\u001b[49m\u001b[43mamt\u001b[49m\u001b[43m)\u001b[49m\n\u001b[0;32m    630\u001b[0m     \u001b[38;5;28;01mif\u001b[39;00m \u001b[38;5;28mlen\u001b[39m(data) \u001b[38;5;241m<\u001b[39m amt:\n\u001b[0;32m    631\u001b[0m         \u001b[38;5;28;01mraise\u001b[39;00m IncompleteRead(data, amt\u001b[38;5;241m-\u001b[39m\u001b[38;5;28mlen\u001b[39m(data))\n",
      "File \u001b[1;32mC:\\Program Files\\Python310\\lib\\socket.py:705\u001b[0m, in \u001b[0;36mSocketIO.readinto\u001b[1;34m(self, b)\u001b[0m\n\u001b[0;32m    703\u001b[0m \u001b[38;5;28;01mwhile\u001b[39;00m \u001b[38;5;28;01mTrue\u001b[39;00m:\n\u001b[0;32m    704\u001b[0m     \u001b[38;5;28;01mtry\u001b[39;00m:\n\u001b[1;32m--> 705\u001b[0m         \u001b[38;5;28;01mreturn\u001b[39;00m \u001b[38;5;28;43mself\u001b[39;49m\u001b[38;5;241;43m.\u001b[39;49m\u001b[43m_sock\u001b[49m\u001b[38;5;241;43m.\u001b[39;49m\u001b[43mrecv_into\u001b[49m\u001b[43m(\u001b[49m\u001b[43mb\u001b[49m\u001b[43m)\u001b[49m\n\u001b[0;32m    706\u001b[0m     \u001b[38;5;28;01mexcept\u001b[39;00m timeout:\n\u001b[0;32m    707\u001b[0m         \u001b[38;5;28mself\u001b[39m\u001b[38;5;241m.\u001b[39m_timeout_occurred \u001b[38;5;241m=\u001b[39m \u001b[38;5;28;01mTrue\u001b[39;00m\n",
      "File \u001b[1;32mC:\\Program Files\\Python310\\lib\\ssl.py:1273\u001b[0m, in \u001b[0;36mSSLSocket.recv_into\u001b[1;34m(self, buffer, nbytes, flags)\u001b[0m\n\u001b[0;32m   1269\u001b[0m     \u001b[38;5;28;01mif\u001b[39;00m flags \u001b[38;5;241m!=\u001b[39m \u001b[38;5;241m0\u001b[39m:\n\u001b[0;32m   1270\u001b[0m         \u001b[38;5;28;01mraise\u001b[39;00m \u001b[38;5;167;01mValueError\u001b[39;00m(\n\u001b[0;32m   1271\u001b[0m           \u001b[38;5;124m\"\u001b[39m\u001b[38;5;124mnon-zero flags not allowed in calls to recv_into() on \u001b[39m\u001b[38;5;132;01m%s\u001b[39;00m\u001b[38;5;124m\"\u001b[39m \u001b[38;5;241m%\u001b[39m\n\u001b[0;32m   1272\u001b[0m           \u001b[38;5;28mself\u001b[39m\u001b[38;5;241m.\u001b[39m\u001b[38;5;18m__class__\u001b[39m)\n\u001b[1;32m-> 1273\u001b[0m     \u001b[38;5;28;01mreturn\u001b[39;00m \u001b[38;5;28;43mself\u001b[39;49m\u001b[38;5;241;43m.\u001b[39;49m\u001b[43mread\u001b[49m\u001b[43m(\u001b[49m\u001b[43mnbytes\u001b[49m\u001b[43m,\u001b[49m\u001b[43m \u001b[49m\u001b[43mbuffer\u001b[49m\u001b[43m)\u001b[49m\n\u001b[0;32m   1274\u001b[0m \u001b[38;5;28;01melse\u001b[39;00m:\n\u001b[0;32m   1275\u001b[0m     \u001b[38;5;28;01mreturn\u001b[39;00m \u001b[38;5;28msuper\u001b[39m()\u001b[38;5;241m.\u001b[39mrecv_into(buffer, nbytes, flags)\n",
      "File \u001b[1;32mC:\\Program Files\\Python310\\lib\\ssl.py:1129\u001b[0m, in \u001b[0;36mSSLSocket.read\u001b[1;34m(self, len, buffer)\u001b[0m\n\u001b[0;32m   1127\u001b[0m \u001b[38;5;28;01mtry\u001b[39;00m:\n\u001b[0;32m   1128\u001b[0m     \u001b[38;5;28;01mif\u001b[39;00m buffer \u001b[38;5;129;01mis\u001b[39;00m \u001b[38;5;129;01mnot\u001b[39;00m \u001b[38;5;28;01mNone\u001b[39;00m:\n\u001b[1;32m-> 1129\u001b[0m         \u001b[38;5;28;01mreturn\u001b[39;00m \u001b[38;5;28;43mself\u001b[39;49m\u001b[38;5;241;43m.\u001b[39;49m\u001b[43m_sslobj\u001b[49m\u001b[38;5;241;43m.\u001b[39;49m\u001b[43mread\u001b[49m\u001b[43m(\u001b[49m\u001b[38;5;28;43mlen\u001b[39;49m\u001b[43m,\u001b[49m\u001b[43m \u001b[49m\u001b[43mbuffer\u001b[49m\u001b[43m)\u001b[49m\n\u001b[0;32m   1130\u001b[0m     \u001b[38;5;28;01melse\u001b[39;00m:\n\u001b[0;32m   1131\u001b[0m         \u001b[38;5;28;01mreturn\u001b[39;00m \u001b[38;5;28mself\u001b[39m\u001b[38;5;241m.\u001b[39m_sslobj\u001b[38;5;241m.\u001b[39mread(\u001b[38;5;28mlen\u001b[39m)\n",
      "\u001b[1;31mKeyboardInterrupt\u001b[0m: "
     ]
    }
   ],
   "source": [
    "import requests\n",
    "\n",
    "def fetch_consumer_complaints(from_date, to_date):\n",
    "    base_url = \"https://www.consumerfinance.gov/data-research/consumer-complaints/search/api/v1/\"\n",
    "    formatted_url = f\"{base_url}?date_received_max={to_date}&date_received_min={from_date}&field=all&format=json\"\n",
    "    \n",
    "    response = requests.get(formatted_url)\n",
    "    \n",
    "    if response.status_code == 200:\n",
    "        return response.json()\n",
    "    else:\n",
    "        raise Exception(f\"Failed to fetch data: {response.status_code}\")\n",
    "\n",
    "# Example usage\n",
    "from_date = \"2024-01-01\"\n",
    "to_date = \"2024-06-21\"\n",
    "\n",
    "try:\n",
    "    complaints_data = fetch_consumer_complaints(from_date, to_date)\n",
    "    print(complaints_data)\n",
    "except Exception as e:\n",
    "    print(e)\n"
   ]
  },
  {
   "cell_type": "code",
   "execution_count": 1,
   "metadata": {},
   "outputs": [
    {
     "data": {
      "text/plain": [
       "0"
      ]
     },
     "execution_count": 1,
     "metadata": {},
     "output_type": "execute_result"
    }
   ],
   "source": [
    "list1 =[1,2,3,4]\n",
    "list1.index(1)"
   ]
  },
  {
   "cell_type": "code",
   "execution_count": 4,
   "metadata": {},
   "outputs": [
    {
     "ename": "ValueError",
     "evalue": "numpy.dtype size changed, may indicate binary incompatibility. Expected 96 from C header, got 88 from PyObject",
     "output_type": "error",
     "traceback": [
      "\u001b[1;31m---------------------------------------------------------------------------\u001b[0m",
      "\u001b[1;31mValueError\u001b[0m                                Traceback (most recent call last)",
      "Cell \u001b[1;32mIn[4], line 1\u001b[0m\n\u001b[1;32m----> 1\u001b[0m \u001b[38;5;28;01mimport\u001b[39;00m \u001b[38;5;21;01mpandas\u001b[39;00m \u001b[38;5;28;01mas\u001b[39;00m \u001b[38;5;21;01mpd\u001b[39;00m\n\u001b[0;32m      2\u001b[0m \u001b[38;5;28;01mfrom\u001b[39;00m \u001b[38;5;21;01mdatetime\u001b[39;00m \u001b[38;5;28;01mimport\u001b[39;00m datetime\n\u001b[0;32m      3\u001b[0m intervels \u001b[38;5;241m=\u001b[39m pd\u001b[38;5;241m.\u001b[39mdate_range(start\u001b[38;5;241m=\u001b[39m datetime\u001b[38;5;241m.\u001b[39mstrptime(\u001b[38;5;124m\"\u001b[39m\u001b[38;5;124m2022-01-01\u001b[39m\u001b[38;5;124m\"\u001b[39m ,\u001b[38;5;124m\"\u001b[39m\u001b[38;5;124m%\u001b[39m\u001b[38;5;124mY-\u001b[39m\u001b[38;5;124m%\u001b[39m\u001b[38;5;124mm-\u001b[39m\u001b[38;5;132;01m%d\u001b[39;00m\u001b[38;5;124m\"\u001b[39m),\n\u001b[0;32m      4\u001b[0m                                           end\u001b[38;5;241m=\u001b[39m datetime\u001b[38;5;241m.\u001b[39mstrptime(\u001b[38;5;124m\"\u001b[39m\u001b[38;5;124m2023-01-01\u001b[39m\u001b[38;5;124m\"\u001b[39m ,\u001b[38;5;124m\"\u001b[39m\u001b[38;5;124m%\u001b[39m\u001b[38;5;124mY-\u001b[39m\u001b[38;5;124m%\u001b[39m\u001b[38;5;124mm-\u001b[39m\u001b[38;5;132;01m%d\u001b[39;00m\u001b[38;5;124m\"\u001b[39m),\n\u001b[0;32m      5\u001b[0m                                           periods\u001b[38;5;241m=\u001b[39m\u001b[38;5;241m2\u001b[39m)\u001b[38;5;241m.\u001b[39mto_list()\n",
      "File \u001b[1;32md:\\Data Science\\MachineLearning\\Project\\FinancialInstituePrediction\\venv\\lib\\site-packages\\pandas\\__init__.py:22\u001b[0m\n\u001b[0;32m     19\u001b[0m \u001b[38;5;28;01mdel\u001b[39;00m hard_dependencies, dependency, missing_dependencies\n\u001b[0;32m     21\u001b[0m \u001b[38;5;66;03m# numpy compat\u001b[39;00m\n\u001b[1;32m---> 22\u001b[0m \u001b[38;5;28;01mfrom\u001b[39;00m \u001b[38;5;21;01mpandas\u001b[39;00m\u001b[38;5;21;01m.\u001b[39;00m\u001b[38;5;21;01mcompat\u001b[39;00m \u001b[38;5;28;01mimport\u001b[39;00m (\n\u001b[0;32m     23\u001b[0m     np_version_under1p18 \u001b[38;5;28;01mas\u001b[39;00m _np_version_under1p18,\n\u001b[0;32m     24\u001b[0m     is_numpy_dev \u001b[38;5;28;01mas\u001b[39;00m _is_numpy_dev,\n\u001b[0;32m     25\u001b[0m )\n\u001b[0;32m     27\u001b[0m \u001b[38;5;28;01mtry\u001b[39;00m:\n\u001b[0;32m     28\u001b[0m     \u001b[38;5;28;01mfrom\u001b[39;00m \u001b[38;5;21;01mpandas\u001b[39;00m\u001b[38;5;21;01m.\u001b[39;00m\u001b[38;5;21;01m_libs\u001b[39;00m \u001b[38;5;28;01mimport\u001b[39;00m hashtable \u001b[38;5;28;01mas\u001b[39;00m _hashtable, lib \u001b[38;5;28;01mas\u001b[39;00m _lib, tslib \u001b[38;5;28;01mas\u001b[39;00m _tslib\n",
      "File \u001b[1;32md:\\Data Science\\MachineLearning\\Project\\FinancialInstituePrediction\\venv\\lib\\site-packages\\pandas\\compat\\__init__.py:15\u001b[0m\n\u001b[0;32m     12\u001b[0m \u001b[38;5;28;01mimport\u001b[39;00m \u001b[38;5;21;01mwarnings\u001b[39;00m\n\u001b[0;32m     14\u001b[0m \u001b[38;5;28;01mfrom\u001b[39;00m \u001b[38;5;21;01mpandas\u001b[39;00m\u001b[38;5;21;01m.\u001b[39;00m\u001b[38;5;21;01m_typing\u001b[39;00m \u001b[38;5;28;01mimport\u001b[39;00m F\n\u001b[1;32m---> 15\u001b[0m \u001b[38;5;28;01mfrom\u001b[39;00m \u001b[38;5;21;01mpandas\u001b[39;00m\u001b[38;5;21;01m.\u001b[39;00m\u001b[38;5;21;01mcompat\u001b[39;00m\u001b[38;5;21;01m.\u001b[39;00m\u001b[38;5;21;01mnumpy\u001b[39;00m \u001b[38;5;28;01mimport\u001b[39;00m (\n\u001b[0;32m     16\u001b[0m     is_numpy_dev,\n\u001b[0;32m     17\u001b[0m     np_array_datetime64_compat,\n\u001b[0;32m     18\u001b[0m     np_datetime64_compat,\n\u001b[0;32m     19\u001b[0m     np_version_under1p18,\n\u001b[0;32m     20\u001b[0m     np_version_under1p19,\n\u001b[0;32m     21\u001b[0m     np_version_under1p20,\n\u001b[0;32m     22\u001b[0m )\n\u001b[0;32m     23\u001b[0m \u001b[38;5;28;01mfrom\u001b[39;00m \u001b[38;5;21;01mpandas\u001b[39;00m\u001b[38;5;21;01m.\u001b[39;00m\u001b[38;5;21;01mcompat\u001b[39;00m\u001b[38;5;21;01m.\u001b[39;00m\u001b[38;5;21;01mpyarrow\u001b[39;00m \u001b[38;5;28;01mimport\u001b[39;00m (\n\u001b[0;32m     24\u001b[0m     pa_version_under1p0,\n\u001b[0;32m     25\u001b[0m     pa_version_under2p0,\n\u001b[0;32m     26\u001b[0m     pa_version_under3p0,\n\u001b[0;32m     27\u001b[0m     pa_version_under4p0,\n\u001b[0;32m     28\u001b[0m )\n\u001b[0;32m     30\u001b[0m PY38 \u001b[38;5;241m=\u001b[39m sys\u001b[38;5;241m.\u001b[39mversion_info \u001b[38;5;241m>\u001b[39m\u001b[38;5;241m=\u001b[39m (\u001b[38;5;241m3\u001b[39m, \u001b[38;5;241m8\u001b[39m)\n",
      "File \u001b[1;32md:\\Data Science\\MachineLearning\\Project\\FinancialInstituePrediction\\venv\\lib\\site-packages\\pandas\\compat\\numpy\\__init__.py:7\u001b[0m\n\u001b[0;32m      3\u001b[0m \u001b[38;5;28;01mimport\u001b[39;00m \u001b[38;5;21;01mre\u001b[39;00m\n\u001b[0;32m      5\u001b[0m \u001b[38;5;28;01mimport\u001b[39;00m \u001b[38;5;21;01mnumpy\u001b[39;00m \u001b[38;5;28;01mas\u001b[39;00m \u001b[38;5;21;01mnp\u001b[39;00m\n\u001b[1;32m----> 7\u001b[0m \u001b[38;5;28;01mfrom\u001b[39;00m \u001b[38;5;21;01mpandas\u001b[39;00m\u001b[38;5;21;01m.\u001b[39;00m\u001b[38;5;21;01mutil\u001b[39;00m\u001b[38;5;21;01m.\u001b[39;00m\u001b[38;5;21;01mversion\u001b[39;00m \u001b[38;5;28;01mimport\u001b[39;00m Version\n\u001b[0;32m      9\u001b[0m \u001b[38;5;66;03m# numpy versioning\u001b[39;00m\n\u001b[0;32m     10\u001b[0m _np_version \u001b[38;5;241m=\u001b[39m np\u001b[38;5;241m.\u001b[39m__version__\n",
      "File \u001b[1;32md:\\Data Science\\MachineLearning\\Project\\FinancialInstituePrediction\\venv\\lib\\site-packages\\pandas\\util\\__init__.py:1\u001b[0m\n\u001b[1;32m----> 1\u001b[0m \u001b[38;5;28;01mfrom\u001b[39;00m \u001b[38;5;21;01mpandas\u001b[39;00m\u001b[38;5;21;01m.\u001b[39;00m\u001b[38;5;21;01mutil\u001b[39;00m\u001b[38;5;21;01m.\u001b[39;00m\u001b[38;5;21;01m_decorators\u001b[39;00m \u001b[38;5;28;01mimport\u001b[39;00m (  \u001b[38;5;66;03m# noqa\u001b[39;00m\n\u001b[0;32m      2\u001b[0m     Appender,\n\u001b[0;32m      3\u001b[0m     Substitution,\n\u001b[0;32m      4\u001b[0m     cache_readonly,\n\u001b[0;32m      5\u001b[0m )\n\u001b[0;32m      7\u001b[0m \u001b[38;5;28;01mfrom\u001b[39;00m \u001b[38;5;21;01mpandas\u001b[39;00m\u001b[38;5;21;01m.\u001b[39;00m\u001b[38;5;21;01mcore\u001b[39;00m\u001b[38;5;21;01m.\u001b[39;00m\u001b[38;5;21;01mutil\u001b[39;00m\u001b[38;5;21;01m.\u001b[39;00m\u001b[38;5;21;01mhashing\u001b[39;00m \u001b[38;5;28;01mimport\u001b[39;00m (  \u001b[38;5;66;03m# noqa\u001b[39;00m\n\u001b[0;32m      8\u001b[0m     hash_array,\n\u001b[0;32m      9\u001b[0m     hash_pandas_object,\n\u001b[0;32m     10\u001b[0m )\n\u001b[0;32m     13\u001b[0m \u001b[38;5;28;01mdef\u001b[39;00m \u001b[38;5;21m__getattr__\u001b[39m(name):\n",
      "File \u001b[1;32md:\\Data Science\\MachineLearning\\Project\\FinancialInstituePrediction\\venv\\lib\\site-packages\\pandas\\util\\_decorators.py:14\u001b[0m\n\u001b[0;32m      6\u001b[0m \u001b[38;5;28;01mfrom\u001b[39;00m \u001b[38;5;21;01mtyping\u001b[39;00m \u001b[38;5;28;01mimport\u001b[39;00m (\n\u001b[0;32m      7\u001b[0m     Any,\n\u001b[0;32m      8\u001b[0m     Callable,\n\u001b[0;32m      9\u001b[0m     Mapping,\n\u001b[0;32m     10\u001b[0m     cast,\n\u001b[0;32m     11\u001b[0m )\n\u001b[0;32m     12\u001b[0m \u001b[38;5;28;01mimport\u001b[39;00m \u001b[38;5;21;01mwarnings\u001b[39;00m\n\u001b[1;32m---> 14\u001b[0m \u001b[38;5;28;01mfrom\u001b[39;00m \u001b[38;5;21;01mpandas\u001b[39;00m\u001b[38;5;21;01m.\u001b[39;00m\u001b[38;5;21;01m_libs\u001b[39;00m\u001b[38;5;21;01m.\u001b[39;00m\u001b[38;5;21;01mproperties\u001b[39;00m \u001b[38;5;28;01mimport\u001b[39;00m cache_readonly  \u001b[38;5;66;03m# noqa\u001b[39;00m\n\u001b[0;32m     15\u001b[0m \u001b[38;5;28;01mfrom\u001b[39;00m \u001b[38;5;21;01mpandas\u001b[39;00m\u001b[38;5;21;01m.\u001b[39;00m\u001b[38;5;21;01m_typing\u001b[39;00m \u001b[38;5;28;01mimport\u001b[39;00m F\n\u001b[0;32m     18\u001b[0m \u001b[38;5;28;01mdef\u001b[39;00m \u001b[38;5;21mdeprecate\u001b[39m(\n\u001b[0;32m     19\u001b[0m     name: \u001b[38;5;28mstr\u001b[39m,\n\u001b[0;32m     20\u001b[0m     alternative: Callable[\u001b[38;5;241m.\u001b[39m\u001b[38;5;241m.\u001b[39m\u001b[38;5;241m.\u001b[39m, Any],\n\u001b[1;32m   (...)\u001b[0m\n\u001b[0;32m     25\u001b[0m     msg: \u001b[38;5;28mstr\u001b[39m \u001b[38;5;241m|\u001b[39m \u001b[38;5;28;01mNone\u001b[39;00m \u001b[38;5;241m=\u001b[39m \u001b[38;5;28;01mNone\u001b[39;00m,\n\u001b[0;32m     26\u001b[0m ) \u001b[38;5;241m-\u001b[39m\u001b[38;5;241m>\u001b[39m Callable[[F], F]:\n",
      "File \u001b[1;32md:\\Data Science\\MachineLearning\\Project\\FinancialInstituePrediction\\venv\\lib\\site-packages\\pandas\\_libs\\__init__.py:13\u001b[0m\n\u001b[0;32m      1\u001b[0m __all__ \u001b[38;5;241m=\u001b[39m [\n\u001b[0;32m      2\u001b[0m     \u001b[38;5;124m\"\u001b[39m\u001b[38;5;124mNaT\u001b[39m\u001b[38;5;124m\"\u001b[39m,\n\u001b[0;32m      3\u001b[0m     \u001b[38;5;124m\"\u001b[39m\u001b[38;5;124mNaTType\u001b[39m\u001b[38;5;124m\"\u001b[39m,\n\u001b[1;32m   (...)\u001b[0m\n\u001b[0;32m      9\u001b[0m     \u001b[38;5;124m\"\u001b[39m\u001b[38;5;124mInterval\u001b[39m\u001b[38;5;124m\"\u001b[39m,\n\u001b[0;32m     10\u001b[0m ]\n\u001b[1;32m---> 13\u001b[0m \u001b[38;5;28;01mfrom\u001b[39;00m \u001b[38;5;21;01mpandas\u001b[39;00m\u001b[38;5;21;01m.\u001b[39;00m\u001b[38;5;21;01m_libs\u001b[39;00m\u001b[38;5;21;01m.\u001b[39;00m\u001b[38;5;21;01minterval\u001b[39;00m \u001b[38;5;28;01mimport\u001b[39;00m Interval\n\u001b[0;32m     14\u001b[0m \u001b[38;5;28;01mfrom\u001b[39;00m \u001b[38;5;21;01mpandas\u001b[39;00m\u001b[38;5;21;01m.\u001b[39;00m\u001b[38;5;21;01m_libs\u001b[39;00m\u001b[38;5;21;01m.\u001b[39;00m\u001b[38;5;21;01mtslibs\u001b[39;00m \u001b[38;5;28;01mimport\u001b[39;00m (\n\u001b[0;32m     15\u001b[0m     NaT,\n\u001b[0;32m     16\u001b[0m     NaTType,\n\u001b[1;32m   (...)\u001b[0m\n\u001b[0;32m     21\u001b[0m     iNaT,\n\u001b[0;32m     22\u001b[0m )\n",
      "File \u001b[1;32md:\\Data Science\\MachineLearning\\Project\\FinancialInstituePrediction\\venv\\lib\\site-packages\\pandas\\_libs\\interval.pyx:1\u001b[0m, in \u001b[0;36minit pandas._libs.interval\u001b[1;34m()\u001b[0m\n",
      "\u001b[1;31mValueError\u001b[0m: numpy.dtype size changed, may indicate binary incompatibility. Expected 96 from C header, got 88 from PyObject"
     ]
    }
   ],
   "source": [
    "import pandas as pd\n",
    "from datetime import datetime\n",
    "intervels = pd.date_range(start= datetime.strptime(\"2022-01-01\" ,\"%Y-%m-%d\"),\n",
    "                        end= datetime.strptime(\"2023-01-01\" ,\"%Y-%m-%d\"),\n",
    "                        periods=2).to_list()\n",
    "intervels\n"
   ]
  },
  {
   "cell_type": "code",
   "execution_count": 6,
   "metadata": {},
   "outputs": [
    {
     "data": {
      "text/plain": [
       "datetime.datetime(2022, 1, 1, 0, 0)"
      ]
     },
     "execution_count": 6,
     "metadata": {},
     "output_type": "execute_result"
    }
   ],
   "source": [
    "from datetime import datetime\n",
    "datetime.strptime(\"2022-01-01\" ,\"%Y-%m-%d\")"
   ]
  },
  {
   "cell_type": "code",
   "execution_count": 13,
   "metadata": {},
   "outputs": [
    {
     "name": "stdout",
     "output_type": "stream",
     "text": [
      "Requirement already satisfied: pandas in d:\\data science\\machinelearning\\project\\financialinstitueprediction\\venv\\lib\\site-packages (1.3.5)\n",
      "Requirement already satisfied: numpy>=1.21.0 in d:\\data science\\machinelearning\\project\\financialinstitueprediction\\venv\\lib\\site-packages (from pandas) (2.0.0)\n",
      "Requirement already satisfied: pytz>=2017.3 in d:\\data science\\machinelearning\\project\\financialinstitueprediction\\venv\\lib\\site-packages (from pandas) (2024.1)\n",
      "Requirement already satisfied: python-dateutil>=2.7.3 in d:\\data science\\machinelearning\\project\\financialinstitueprediction\\venv\\lib\\site-packages (from pandas) (2.9.0.post0)\n",
      "Requirement already satisfied: six>=1.5 in d:\\data science\\machinelearning\\project\\financialinstitueprediction\\venv\\lib\\site-packages (from python-dateutil>=2.7.3->pandas) (1.16.0)\n"
     ]
    },
    {
     "name": "stderr",
     "output_type": "stream",
     "text": [
      "WARNING: You are using pip version 21.2.3; however, version 24.0 is available.\n",
      "You should consider upgrading via the 'D:\\Data Science\\MachineLearning\\Project\\FinancialInstituePrediction\\venv\\Scripts\\python.exe -m pip install --upgrade pip' command.\n"
     ]
    },
    {
     "name": "stdout",
     "output_type": "stream",
     "text": [
      "Requirement already satisfied: numpy in d:\\data science\\machinelearning\\project\\financialinstitueprediction\\venv\\lib\\site-packages (2.0.0)\n",
      "Requirement already satisfied: pandas in d:\\data science\\machinelearning\\project\\financialinstitueprediction\\venv\\lib\\site-packages (1.3.5)\n",
      "Collecting pandas\n",
      "  Using cached pandas-2.2.2-cp310-cp310-win_amd64.whl (11.6 MB)\n",
      "Requirement already satisfied: tzdata>=2022.7 in d:\\data science\\machinelearning\\project\\financialinstitueprediction\\venv\\lib\\site-packages (from pandas) (2024.1)\n",
      "Requirement already satisfied: pytz>=2020.1 in d:\\data science\\machinelearning\\project\\financialinstitueprediction\\venv\\lib\\site-packages (from pandas) (2024.1)\n",
      "Requirement already satisfied: python-dateutil>=2.8.2 in d:\\data science\\machinelearning\\project\\financialinstitueprediction\\venv\\lib\\site-packages (from pandas) (2.9.0.post0)\n",
      "Requirement already satisfied: six>=1.5 in d:\\data science\\machinelearning\\project\\financialinstitueprediction\\venv\\lib\\site-packages (from python-dateutil>=2.8.2->pandas) (1.16.0)\n",
      "Installing collected packages: pandas\n",
      "  Attempting uninstall: pandas\n",
      "    Found existing installation: pandas 1.3.5\n",
      "    Uninstalling pandas-1.3.5:\n",
      "      Successfully uninstalled pandas-1.3.5\n"
     ]
    },
    {
     "name": "stderr",
     "output_type": "stream",
     "text": [
      "ERROR: Could not install packages due to an OSError: [WinError 5] Access is denied: 'D:\\\\Data Science\\\\MachineLearning\\\\Project\\\\FinancialInstituePrediction\\\\venv\\\\Lib\\\\site-packages\\\\~-ndas\\\\_libs\\\\interval.cp310-win_amd64.pyd'\n",
      "Check the permissions.\n",
      "\n",
      "WARNING: You are using pip version 21.2.3; however, version 24.0 is available.\n",
      "You should consider upgrading via the 'D:\\Data Science\\MachineLearning\\Project\\FinancialInstituePrediction\\venv\\Scripts\\python.exe -m pip install --upgrade pip' command.\n"
     ]
    }
   ],
   "source": [
    "! pip install pandas\n",
    "! pip install --upgrade numpy pandas"
   ]
  },
  {
   "cell_type": "code",
   "execution_count": 34,
   "metadata": {},
   "outputs": [
    {
     "name": "stdout",
     "output_type": "stream",
     "text": [
      "data_ingestion_config\n"
     ]
    }
   ],
   "source": [
    "from FinancialComplaints.config.configuration import Configuration\n",
    "\n",
    "from FinancialComplaints.constant import *\n",
    "print(DATA_INGESTION_CONFIG_KEY)\n",
    "\n"
   ]
  },
  {
   "cell_type": "code",
   "execution_count": 11,
   "metadata": {},
   "outputs": [
    {
     "data": {
      "text/plain": [
       "{'training_pipeline_config': {'artifact_dir': 'artifact'},\n",
       " 'data_ingestion_config': {'data_ingestion_dir_name': 'data_ingestion',\n",
       "  'data_ingestion_downloaded_data_dir_name': 'downloaded_files',\n",
       "  'data_ingestion_file_name': 'finance_complaint',\n",
       "  'data_ingestion_feature_store_dir_name': 'feature_store',\n",
       "  'data_ingestion_failed_dir_name': 'failed_downloaded_files',\n",
       "  'data_ingestion_metadata_file_name': 'meta_info.yaml',\n",
       "  'data_ingestion_min_start_date': '2019-01-01',\n",
       "  'data_ingestion_data_store_url': '( \"https://www.consumerfinance.gov/data-research/consumer-complaints/search/api/v1/\" \"?date_received_max=<todate>&date_received_min=<fromdate>\" \"&field=all&format=json\")'}}"
      ]
     },
     "execution_count": 11,
     "metadata": {},
     "output_type": "execute_result"
    }
   ],
   "source": [
    "from FinancialComplaints.utils.utils import read_yaml\n",
    "\n",
    "config_info = read_yaml(r'D:\\Data Science\\MachineLearning\\Project\\FinancialInstituePrediction\\config\\config.yaml')\n",
    "config_info"
   ]
  },
  {
   "cell_type": "code",
   "execution_count": 18,
   "metadata": {},
   "outputs": [
    {
     "data": {
      "text/plain": [
       "[[1, 2], [1, 3], [1, 4], [2, 3], [2, 4], [3, 4]]"
      ]
     },
     "execution_count": 18,
     "metadata": {},
     "output_type": "execute_result"
    }
   ],
   "source": [
    "list1 = [1,2,3,4]\n",
    "import itertools\n",
    "combinations = list(itertools.combinations(list1, 2))\n",
    "[list(l1) for l1 in combinations]"
   ]
  },
  {
   "cell_type": "code",
   "execution_count": 2,
   "metadata": {},
   "outputs": [
    {
     "name": "stdout",
     "output_type": "stream",
     "text": [
      "Reading environment variables\n"
     ]
    }
   ],
   "source": [
    "from FinancialComplaints.components.data_ingestion import DataIngestion \n",
    "url = f\"https://www.consumerfinance.gov/data-research/consumer-complaints/search/api/v1/\"+ f\"?date_received_max=2021-04-30&date_received_min=2021-03-31\" + f\"&field=all&format=json\"\n",
    "url ='https://www.consumerfinance.gov/data-research/consumer-complaints/search/api/v1/?date_received_max=2021-05-01&date_received_min=2021-04-30&field=all&format=json'"
   ]
  },
  {
   "cell_type": "code",
   "execution_count": 2,
   "metadata": {},
   "outputs": [
    {
     "name": "stdout",
     "output_type": "stream",
     "text": [
      "All JSON files have been successfully combined into output_file.csv\n"
     ]
    }
   ],
   "source": [
    "import os\n",
    "import json\n",
    "import pandas as pd\n",
    "\n",
    "# Directory containing JSON files\n",
    "json_dir = 'D:\\\\Data Science\\\\MachineLearning\\\\Project\\\\FinancialInstituePrediction\\\\artifact\\\\data_ingestion\\\\2024-06-23-13-43-01\\\\downloaded_files'  # Update this path\n",
    "# Output CSV file path\n",
    "output_csv = 'output_file.csv'\n",
    "\n",
    "# List to hold dataframes\n",
    "dataframes = []\n",
    "\n",
    "# Loop through each file in the directory\n",
    "for file_name in os.listdir(json_dir):\n",
    "    if file_name.endswith('.json'):\n",
    "        file_path = os.path.join(json_dir, file_name)\n",
    "        with open(file_path, 'r') as file:\n",
    "            data = json.load(file)\n",
    "            # Convert JSON data to dataframe\n",
    "            df = pd.json_normalize(data)\n",
    "            dataframes.append(df)\n",
    "\n",
    "# Concatenate all dataframes\n",
    "combined_df = pd.concat(dataframes, ignore_index=True)\n",
    "\n",
    "# Write to CSV file\n",
    "combined_df.to_csv(output_csv, index=False)\n",
    "\n",
    "print(f'All JSON files have been successfully combined into {output_csv}')"
   ]
  },
  {
   "cell_type": "code",
   "execution_count": 11,
   "metadata": {},
   "outputs": [],
   "source": [
    "data1=[\n",
    "    {\n",
    "        \"id\": 1,\n",
    "        \"name\": \"John Doe\",\n",
    "        \"address\": {\n",
    "            \"street\": \"123 Elm St\",\n",
    "            \"city\": \"Somewhere\"\n",
    "        },\n",
    "        \"email\": \"john@example.com\"\n",
    "    },\n",
    "    {\n",
    "        \"id\": 2,\n",
    "        \"name\": \"Jane Doe\",\n",
    "        \"address\": {\n",
    "            \"street\": \"456 Oak St\",\n",
    "            \"city\": \"Anywhere\"\n",
    "        },\n",
    "        \"email\": \"jane@example.com\"\n",
    "    }\n",
    "]\n",
    "import json\n",
    "\n",
    "# Path to the JSON file\n",
    "json_file_path = 'example.json'\n",
    "\n",
    "# Open the JSON file and load its content\n",
    "with open(json_file_path, 'r') as file:\n",
    "    data = json.load(file)\n",
    "\n",
    "# Print the loaded data\n",
    "print(data)"
   ]
  },
  {
   "cell_type": "code",
   "execution_count": 9,
   "metadata": {},
   "outputs": [
    {
     "data": {
      "text/plain": [
       "'2024-06-23 00:00:00'"
      ]
     },
     "execution_count": 9,
     "metadata": {},
     "output_type": "execute_result"
    }
   ],
   "source": [
    "from datetime import datetime\n",
    "abc = (datetime.now().strftime(\"%Y-%m-%d\"))\n",
    "str(datetime.strptime(abc ,\"%Y-%m-%d\"))"
   ]
  },
  {
   "cell_type": "code",
   "execution_count": 14,
   "metadata": {},
   "outputs": [
    {
     "name": "stdout",
     "output_type": "stream",
     "text": [
      "                                                  product  \\\n",
      "0                                                Mortgage   \n",
      "1       Money transfer, virtual currency, or money ser...   \n",
      "2       Money transfer, virtual currency, or money ser...   \n",
      "3       Credit reporting, credit repair services, or o...   \n",
      "4                                         Debt collection   \n",
      "...                                                   ...   \n",
      "119103                                    Debt collection   \n",
      "119104  Credit reporting, credit repair services, or o...   \n",
      "119105  Credit reporting, credit repair services, or o...   \n",
      "119106                                           Mortgage   \n",
      "119107                                           Mortgage   \n",
      "\n",
      "                                  complaint_what_happened  \\\n",
      "0                                                           \n",
      "1       Emails associated with account in question : (...   \n",
      "2                                                           \n",
      "3       I'm a legal resident in USA, working in a posi...   \n",
      "4       Debt belongs to XXXX and American Express brou...   \n",
      "...                                                   ...   \n",
      "119103                                                      \n",
      "119104                                                      \n",
      "119105                                                      \n",
      "119106                                                      \n",
      "119107                                                      \n",
      "\n",
      "             date_sent_to_company  \\\n",
      "0       2021-02-10T12:00:00-05:00   \n",
      "1       2021-02-23T12:00:00-05:00   \n",
      "2       2021-02-08T12:00:00-05:00   \n",
      "3       2021-03-10T12:00:00-05:00   \n",
      "4       2021-02-01T12:00:00-05:00   \n",
      "...                           ...   \n",
      "119103  2021-05-01T12:00:00-05:00   \n",
      "119104  2021-05-01T12:00:00-05:00   \n",
      "119105  2021-04-30T12:00:00-05:00   \n",
      "119106  2021-04-30T12:00:00-05:00   \n",
      "119107  2021-06-29T12:00:00-05:00   \n",
      "\n",
      "                                                    issue  \\\n",
      "0              Problem with credit report or credit score   \n",
      "1       Unauthorized transactions or other transaction...   \n",
      "2       Managing, opening, or closing your mobile wall...   \n",
      "3                    Incorrect information on your report   \n",
      "4                       Attempts to collect debt not owed   \n",
      "...                                                   ...   \n",
      "119103                    Written notification about debt   \n",
      "119104               Incorrect information on your report   \n",
      "119105               Incorrect information on your report   \n",
      "119106  Applying for a mortgage or refinancing an exis...   \n",
      "119107                         Struggling to pay mortgage   \n",
      "\n",
      "                     sub_product zip_code           tags complaint_id timely  \\\n",
      "0                    VA mortgage    63385  Servicemember      4130779    Yes   \n",
      "1       Mobile or digital wallet    48706           None      4158606    Yes   \n",
      "2       Mobile or digital wallet     None           None      4125462    Yes   \n",
      "3               Credit reporting    11105           None      4162611    Yes   \n",
      "4               Credit card debt    89052           None      4107149    Yes   \n",
      "...                          ...      ...            ...          ...    ...   \n",
      "119103                Other debt    94607           None      4342828    Yes   \n",
      "119104          Credit reporting    35401           None      4343620    Yes   \n",
      "119105          Credit reporting    60610           None      4339374    Yes   \n",
      "119106    Other type of mortgage    33130           None      4339947    Yes   \n",
      "119107    Other type of mortgage    44857           None      4339803    Yes   \n",
      "\n",
      "       consumer_consent_provided                 company_response  \\\n",
      "0                            N/A          Closed with explanation   \n",
      "1               Consent provided          Closed with explanation   \n",
      "2                            N/A          Closed with explanation   \n",
      "3               Consent provided          Closed with explanation   \n",
      "4               Consent provided  Closed with non-monetary relief   \n",
      "...                          ...                              ...   \n",
      "119103      Consent not provided          Closed with explanation   \n",
      "119104      Consent not provided          Closed with explanation   \n",
      "119105      Consent not provided  Closed with non-monetary relief   \n",
      "119106                     Other          Closed with explanation   \n",
      "119107      Consent not provided          Closed with explanation   \n",
      "\n",
      "       submitted_via                            company  \\\n",
      "0              Phone              WELLS FARGO & COMPANY   \n",
      "1                Web                        Block, Inc.   \n",
      "2              Phone                        Block, Inc.   \n",
      "3                Web                SYNCHRONY FINANCIAL   \n",
      "4                Web           AMERICAN EXPRESS COMPANY   \n",
      "...              ...                                ...   \n",
      "119103           Web       NCB Management Services Inc.   \n",
      "119104           Web                      EQUIFAX, INC.   \n",
      "119105           Web  PORTFOLIO RECOVERY ASSOCIATES INC   \n",
      "119106           Web                Statebridge Company   \n",
      "119107           Web                   Onity Group Inc.   \n",
      "\n",
      "                    date_received state consumer_disputed  \\\n",
      "0       2021-02-10T12:00:00-05:00    MO               N/A   \n",
      "1       2021-02-23T12:00:00-05:00    MI               N/A   \n",
      "2       2021-02-08T12:00:00-05:00  None               N/A   \n",
      "3       2021-02-24T12:00:00-05:00    NY               N/A   \n",
      "4       2021-02-01T12:00:00-05:00    NV               N/A   \n",
      "...                           ...   ...               ...   \n",
      "119103  2021-05-01T12:00:00-05:00    CA               N/A   \n",
      "119104  2021-05-01T12:00:00-05:00    AL               N/A   \n",
      "119105  2021-04-30T12:00:00-05:00    IL               N/A   \n",
      "119106  2021-04-30T12:00:00-05:00    FL               N/A   \n",
      "119107  2021-04-30T12:00:00-05:00    OH               N/A   \n",
      "\n",
      "                                  company_public_response  \\\n",
      "0       Company has responded to the consumer and the ...   \n",
      "1                                                    None   \n",
      "2                                                    None   \n",
      "3       Company has responded to the consumer and the ...   \n",
      "4                                                    None   \n",
      "...                                                   ...   \n",
      "119103                                               None   \n",
      "119104                                               None   \n",
      "119105                                               None   \n",
      "119106                                               None   \n",
      "119107                                               None   \n",
      "\n",
      "                                                sub_issue  \n",
      "0       Problem with a credit reporting company's inve...  \n",
      "1                                                    None  \n",
      "2                                                    None  \n",
      "3                           Account information incorrect  \n",
      "4       Debt was already discharged in bankruptcy and ...  \n",
      "...                                                   ...  \n",
      "119103   Didn't receive enough information to verify debt  \n",
      "119104                Information belongs to someone else  \n",
      "119105                Information belongs to someone else  \n",
      "119106                                               None  \n",
      "119107                                               None  \n",
      "\n",
      "[119108 rows x 18 columns]\n",
      "['D:\\\\Data Science\\\\MachineLearning\\\\Project\\\\FinancialInstituePrediction\\\\artifact\\\\data_ingestion\\\\2024-06-23-22-34-14\\\\downloaded_files\\\\finance_complaint\\\\.csv_2021-01-31_2021-02-28.json', 'D:\\\\Data Science\\\\MachineLearning\\\\Project\\\\FinancialInstituePrediction\\\\artifact\\\\data_ingestion\\\\2024-06-23-22-34-14\\\\downloaded_files\\\\finance_complaint\\\\.csv_2021-02-28_2021-03-31.json', 'D:\\\\Data Science\\\\MachineLearning\\\\Project\\\\FinancialInstituePrediction\\\\artifact\\\\data_ingestion\\\\2024-06-23-22-34-14\\\\downloaded_files\\\\finance_complaint\\\\.csv_2021-03-31_2021-04-30.json', 'D:\\\\Data Science\\\\MachineLearning\\\\Project\\\\FinancialInstituePrediction\\\\artifact\\\\data_ingestion\\\\2024-06-23-22-34-14\\\\downloaded_files\\\\finance_complaint\\\\.csv_2021-04-30_2021-05-01.json']\n"
     ]
    }
   ],
   "source": [
    "json_data_dir = r\"D:\\Data Science\\MachineLearning\\Project\\FinancialInstituePrediction\\artifact\\data_ingestion\\2024-06-23-22-34-14\\downloaded_files\\finance_complaint\"\n",
    "import json\n",
    "import pandas as pd\n",
    "dataframes = []\n",
    "files= []\n",
    "            # Loop through each file in the directory\n",
    "for file_name in os.listdir(json_data_dir):\n",
    "    if file_name.endswith('.json'):\n",
    "        file_path = os.path.join(json_data_dir, file_name)\n",
    "        files.append(file_path)\n",
    "        with open(file_path, 'r') as file:\n",
    "            data = json.load(file)\n",
    "                        # Convert JSON data to dataframe\n",
    "            df = pd.json_normalize(data)\n",
    "            dataframes.append(df)\n",
    "combined_df = pd.concat(dataframes, ignore_index=True)\n",
    "print(combined_df)\n",
    "print(files)"
   ]
  },
  {
   "cell_type": "code",
   "execution_count": 13,
   "metadata": {},
   "outputs": [
    {
     "name": "stdout",
     "output_type": "stream",
     "text": [
      "<class 'pandas.core.frame.DataFrame'>\n",
      "RangeIndex: 1915 entries, 0 to 1914\n",
      "Data columns (total 18 columns):\n",
      " #   Column                     Non-Null Count  Dtype  \n",
      "---  ------                     --------------  -----  \n",
      " 0   product                    1915 non-null   object \n",
      " 1   complaint_what_happened    796 non-null    object \n",
      " 2   date_sent_to_company       1915 non-null   object \n",
      " 3   issue                      1915 non-null   object \n",
      " 4   sub_product                1915 non-null   object \n",
      " 5   zip_code                   1884 non-null   object \n",
      " 6   tags                       226 non-null    object \n",
      " 7   complaint_id               1915 non-null   int64  \n",
      " 8   timely                     1915 non-null   object \n",
      " 9   consumer_consent_provided  1763 non-null   object \n",
      " 10  company_response           1915 non-null   object \n",
      " 11  submitted_via              1915 non-null   object \n",
      " 12  company                    1915 non-null   object \n",
      " 13  date_received              1915 non-null   object \n",
      " 14  state                      1871 non-null   object \n",
      " 15  consumer_disputed          0 non-null      float64\n",
      " 16  company_public_response    918 non-null    object \n",
      " 17  sub_issue                  1711 non-null   object \n",
      "dtypes: float64(1), int64(1), object(16)\n",
      "memory usage: 269.4+ KB\n"
     ]
    },
    {
     "ename": "",
     "evalue": "",
     "output_type": "error",
     "traceback": [
      "\u001b[1;31mThe Kernel crashed while executing code in the current cell or a previous cell. \n",
      "\u001b[1;31mPlease review the code in the cell(s) to identify a possible cause of the failure. \n",
      "\u001b[1;31mClick <a href='https://aka.ms/vscodeJupyterKernelCrash'>here</a> for more info. \n",
      "\u001b[1;31mView Jupyter <a href='command:jupyter.viewOutput'>log</a> for further details."
     ]
    }
   ],
   "source": [
    "import pandas as pd\n",
    "data = pd.read_csv(r\"D:\\Data Science\\MachineLearning\\Project\\FinancialInstituePrediction\\artifact\\data_ingestion\\2024-06-24-16-20-07\\feature_store\\finance_complaint.csv\")\n",
    "data.info()"
   ]
  },
  {
   "cell_type": "code",
   "execution_count": 2,
   "metadata": {},
   "outputs": [
    {
     "data": {
      "text/plain": [
       "{'data_file_path': 'D:\\\\Data Science\\\\MachineLearning\\\\Project\\\\FinancialInstituePrediction\\\\artifact\\\\data_ingestion\\\\2024-06-23-23-08-22\\\\feature_store\\\\finance_complaint.csv',\n",
       " 'from_date': '2021-01-01',\n",
       " 'to_date': '2021-03-01'}"
      ]
     },
     "execution_count": 2,
     "metadata": {},
     "output_type": "execute_result"
    }
   ],
   "source": [
    "from FinancialComplaints.utils.utils import read_yaml \n",
    "path =r\"D:\\Data Science\\MachineLearning\\Project\\FinancialInstituePrediction\\artifact\\data_ingestion\\meta_info.yaml\"\n",
    "read_yaml(path)"
   ]
  },
  {
   "cell_type": "code",
   "execution_count": 3,
   "metadata": {},
   "outputs": [
    {
     "ename": "CustomException",
     "evalue": "Error occured in python script name [d:\\Data Science\\MachineLearning\\Project\\FinancialInstituePrediction\\FinancialComplaints\\utils\\utils.py] line number [45] error message [could not determine a constructor for the tag 'tag:yaml.org,2002:python/object:FinancialComplaints.entity.meta_data_entity.DataIngestionMetadataInfo'\n  in \"D:\\Data Science\\MachineLearning\\Project\\FinancialInstituePrediction\\artifact\\data_ingestion\\meta_info.yaml\", line 1, column 1]",
     "output_type": "error",
     "traceback": [
      "\u001b[1;31m---------------------------------------------------------------------------\u001b[0m",
      "\u001b[1;31mConstructorError\u001b[0m                          Traceback (most recent call last)",
      "File \u001b[1;32md:\\Data Science\\MachineLearning\\Project\\FinancialInstituePrediction\\FinancialComplaints\\utils\\utils.py:45\u001b[0m, in \u001b[0;36mread_yaml\u001b[1;34m(yaml_file_path)\u001b[0m\n\u001b[0;32m     44\u001b[0m \u001b[38;5;28;01mwith\u001b[39;00m \u001b[38;5;28mopen\u001b[39m(yaml_file_path , \u001b[38;5;124m'\u001b[39m\u001b[38;5;124mr\u001b[39m\u001b[38;5;124m'\u001b[39m) \u001b[38;5;28;01mas\u001b[39;00m file:\n\u001b[1;32m---> 45\u001b[0m     content \u001b[38;5;241m=\u001b[39m  \u001b[43myaml\u001b[49m\u001b[38;5;241;43m.\u001b[39;49m\u001b[43msafe_load\u001b[49m\u001b[43m(\u001b[49m\u001b[43mfile\u001b[49m\u001b[43m)\u001b[49m\n\u001b[0;32m     46\u001b[0m     \u001b[38;5;28;01mreturn\u001b[39;00m content\n",
      "File \u001b[1;32md:\\Data Science\\MachineLearning\\Project\\FinancialInstituePrediction\\venv\\lib\\site-packages\\yaml\\__init__.py:125\u001b[0m, in \u001b[0;36msafe_load\u001b[1;34m(stream)\u001b[0m\n\u001b[0;32m    118\u001b[0m \u001b[38;5;250m\u001b[39m\u001b[38;5;124;03m\"\"\"\u001b[39;00m\n\u001b[0;32m    119\u001b[0m \u001b[38;5;124;03mParse the first YAML document in a stream\u001b[39;00m\n\u001b[0;32m    120\u001b[0m \u001b[38;5;124;03mand produce the corresponding Python object.\u001b[39;00m\n\u001b[1;32m   (...)\u001b[0m\n\u001b[0;32m    123\u001b[0m \u001b[38;5;124;03mto be safe for untrusted input.\u001b[39;00m\n\u001b[0;32m    124\u001b[0m \u001b[38;5;124;03m\"\"\"\u001b[39;00m\n\u001b[1;32m--> 125\u001b[0m \u001b[38;5;28;01mreturn\u001b[39;00m \u001b[43mload\u001b[49m\u001b[43m(\u001b[49m\u001b[43mstream\u001b[49m\u001b[43m,\u001b[49m\u001b[43m \u001b[49m\u001b[43mSafeLoader\u001b[49m\u001b[43m)\u001b[49m\n",
      "File \u001b[1;32md:\\Data Science\\MachineLearning\\Project\\FinancialInstituePrediction\\venv\\lib\\site-packages\\yaml\\__init__.py:81\u001b[0m, in \u001b[0;36mload\u001b[1;34m(stream, Loader)\u001b[0m\n\u001b[0;32m     80\u001b[0m \u001b[38;5;28;01mtry\u001b[39;00m:\n\u001b[1;32m---> 81\u001b[0m     \u001b[38;5;28;01mreturn\u001b[39;00m \u001b[43mloader\u001b[49m\u001b[38;5;241;43m.\u001b[39;49m\u001b[43mget_single_data\u001b[49m\u001b[43m(\u001b[49m\u001b[43m)\u001b[49m\n\u001b[0;32m     82\u001b[0m \u001b[38;5;28;01mfinally\u001b[39;00m:\n",
      "File \u001b[1;32md:\\Data Science\\MachineLearning\\Project\\FinancialInstituePrediction\\venv\\lib\\site-packages\\yaml\\constructor.py:51\u001b[0m, in \u001b[0;36mBaseConstructor.get_single_data\u001b[1;34m(self)\u001b[0m\n\u001b[0;32m     50\u001b[0m \u001b[38;5;28;01mif\u001b[39;00m node \u001b[38;5;129;01mis\u001b[39;00m \u001b[38;5;129;01mnot\u001b[39;00m \u001b[38;5;28;01mNone\u001b[39;00m:\n\u001b[1;32m---> 51\u001b[0m     \u001b[38;5;28;01mreturn\u001b[39;00m \u001b[38;5;28;43mself\u001b[39;49m\u001b[38;5;241;43m.\u001b[39;49m\u001b[43mconstruct_document\u001b[49m\u001b[43m(\u001b[49m\u001b[43mnode\u001b[49m\u001b[43m)\u001b[49m\n\u001b[0;32m     52\u001b[0m \u001b[38;5;28;01mreturn\u001b[39;00m \u001b[38;5;28;01mNone\u001b[39;00m\n",
      "File \u001b[1;32md:\\Data Science\\MachineLearning\\Project\\FinancialInstituePrediction\\venv\\lib\\site-packages\\yaml\\constructor.py:55\u001b[0m, in \u001b[0;36mBaseConstructor.construct_document\u001b[1;34m(self, node)\u001b[0m\n\u001b[0;32m     54\u001b[0m \u001b[38;5;28;01mdef\u001b[39;00m \u001b[38;5;21mconstruct_document\u001b[39m(\u001b[38;5;28mself\u001b[39m, node):\n\u001b[1;32m---> 55\u001b[0m     data \u001b[38;5;241m=\u001b[39m \u001b[38;5;28;43mself\u001b[39;49m\u001b[38;5;241;43m.\u001b[39;49m\u001b[43mconstruct_object\u001b[49m\u001b[43m(\u001b[49m\u001b[43mnode\u001b[49m\u001b[43m)\u001b[49m\n\u001b[0;32m     56\u001b[0m     \u001b[38;5;28;01mwhile\u001b[39;00m \u001b[38;5;28mself\u001b[39m\u001b[38;5;241m.\u001b[39mstate_generators:\n",
      "File \u001b[1;32md:\\Data Science\\MachineLearning\\Project\\FinancialInstituePrediction\\venv\\lib\\site-packages\\yaml\\constructor.py:100\u001b[0m, in \u001b[0;36mBaseConstructor.construct_object\u001b[1;34m(self, node, deep)\u001b[0m\n\u001b[0;32m     99\u001b[0m \u001b[38;5;28;01mif\u001b[39;00m tag_suffix \u001b[38;5;129;01mis\u001b[39;00m \u001b[38;5;28;01mNone\u001b[39;00m:\n\u001b[1;32m--> 100\u001b[0m     data \u001b[38;5;241m=\u001b[39m \u001b[43mconstructor\u001b[49m\u001b[43m(\u001b[49m\u001b[38;5;28;43mself\u001b[39;49m\u001b[43m,\u001b[49m\u001b[43m \u001b[49m\u001b[43mnode\u001b[49m\u001b[43m)\u001b[49m\n\u001b[0;32m    101\u001b[0m \u001b[38;5;28;01melse\u001b[39;00m:\n",
      "File \u001b[1;32md:\\Data Science\\MachineLearning\\Project\\FinancialInstituePrediction\\venv\\lib\\site-packages\\yaml\\constructor.py:427\u001b[0m, in \u001b[0;36mSafeConstructor.construct_undefined\u001b[1;34m(self, node)\u001b[0m\n\u001b[0;32m    426\u001b[0m \u001b[38;5;28;01mdef\u001b[39;00m \u001b[38;5;21mconstruct_undefined\u001b[39m(\u001b[38;5;28mself\u001b[39m, node):\n\u001b[1;32m--> 427\u001b[0m     \u001b[38;5;28;01mraise\u001b[39;00m ConstructorError(\u001b[38;5;28;01mNone\u001b[39;00m, \u001b[38;5;28;01mNone\u001b[39;00m,\n\u001b[0;32m    428\u001b[0m             \u001b[38;5;124m\"\u001b[39m\u001b[38;5;124mcould not determine a constructor for the tag \u001b[39m\u001b[38;5;132;01m%r\u001b[39;00m\u001b[38;5;124m\"\u001b[39m \u001b[38;5;241m%\u001b[39m node\u001b[38;5;241m.\u001b[39mtag,\n\u001b[0;32m    429\u001b[0m             node\u001b[38;5;241m.\u001b[39mstart_mark)\n",
      "\u001b[1;31mConstructorError\u001b[0m: could not determine a constructor for the tag 'tag:yaml.org,2002:python/object:FinancialComplaints.entity.meta_data_entity.DataIngestionMetadataInfo'\n  in \"D:\\Data Science\\MachineLearning\\Project\\FinancialInstituePrediction\\artifact\\data_ingestion\\meta_info.yaml\", line 1, column 1",
      "\nDuring handling of the above exception, another exception occurred:\n",
      "\u001b[1;31mCustomException\u001b[0m                           Traceback (most recent call last)",
      "Cell \u001b[1;32mIn[3], line 2\u001b[0m\n\u001b[0;32m      1\u001b[0m \u001b[38;5;28;01mfrom\u001b[39;00m \u001b[38;5;21;01mFinancialComplaints\u001b[39;00m\u001b[38;5;21;01m.\u001b[39;00m\u001b[38;5;21;01mutils\u001b[39;00m\u001b[38;5;21;01m.\u001b[39;00m\u001b[38;5;21;01mutils\u001b[39;00m \u001b[38;5;28;01mimport\u001b[39;00m read_yaml \n\u001b[1;32m----> 2\u001b[0m \u001b[43mread_yaml\u001b[49m\u001b[43m(\u001b[49m\u001b[38;5;124;43mr\u001b[39;49m\u001b[38;5;124;43m'\u001b[39;49m\u001b[38;5;124;43mD:\u001b[39;49m\u001b[38;5;124;43m\\\u001b[39;49m\u001b[38;5;124;43mData Science\u001b[39;49m\u001b[38;5;124;43m\\\u001b[39;49m\u001b[38;5;124;43mMachineLearning\u001b[39;49m\u001b[38;5;124;43m\\\u001b[39;49m\u001b[38;5;124;43mProject\u001b[39;49m\u001b[38;5;124;43m\\\u001b[39;49m\u001b[38;5;124;43mFinancialInstituePrediction\u001b[39;49m\u001b[38;5;124;43m\\\u001b[39;49m\u001b[38;5;124;43martifact\u001b[39;49m\u001b[38;5;124;43m\\\u001b[39;49m\u001b[38;5;124;43mdata_ingestion\u001b[39;49m\u001b[38;5;124;43m\\\u001b[39;49m\u001b[38;5;124;43mmeta_info.yaml\u001b[39;49m\u001b[38;5;124;43m'\u001b[39;49m\u001b[43m)\u001b[49m\n",
      "File \u001b[1;32md:\\Data Science\\MachineLearning\\Project\\FinancialInstituePrediction\\FinancialComplaints\\utils\\utils.py:50\u001b[0m, in \u001b[0;36mread_yaml\u001b[1;34m(yaml_file_path)\u001b[0m\n\u001b[0;32m     48\u001b[0m \u001b[38;5;28;01mexcept\u001b[39;00m \u001b[38;5;167;01mException\u001b[39;00m \u001b[38;5;28;01mas\u001b[39;00m e:\n\u001b[0;32m     49\u001b[0m     logging\u001b[38;5;241m.\u001b[39minfo(\u001b[38;5;124mf\u001b[39m\u001b[38;5;124m'\u001b[39m\u001b[38;5;124munable to read Yaml file at \u001b[39m\u001b[38;5;132;01m{\u001b[39;00myaml_file_path\u001b[38;5;132;01m}\u001b[39;00m\u001b[38;5;124m'\u001b[39m)\n\u001b[1;32m---> 50\u001b[0m     \u001b[38;5;28;01mraise\u001b[39;00m CustomException(e ,sys)\n",
      "\u001b[1;31mCustomException\u001b[0m: Error occured in python script name [d:\\Data Science\\MachineLearning\\Project\\FinancialInstituePrediction\\FinancialComplaints\\utils\\utils.py] line number [45] error message [could not determine a constructor for the tag 'tag:yaml.org,2002:python/object:FinancialComplaints.entity.meta_data_entity.DataIngestionMetadataInfo'\n  in \"D:\\Data Science\\MachineLearning\\Project\\FinancialInstituePrediction\\artifact\\data_ingestion\\meta_info.yaml\", line 1, column 1]"
     ]
    }
   ],
   "source": [
    "from FinancialComplaints.utils.utils import read_yaml \n",
    "read_yaml(r'D:\\Data Science\\MachineLearning\\Project\\FinancialInstituePrediction\\artifact\\data_ingestion\\meta_info.yaml')"
   ]
  },
  {
   "cell_type": "code",
   "execution_count": 1,
   "metadata": {},
   "outputs": [],
   "source": [
    "Actual = ['product', 'complaint_what_happened', 'date_sent_to_company', 'issue', 'sub_product', 'zip_code', 'tags', 'complaint_id', 'timely', 'consumer_consent_provided', 'company_response', 'submitted_via', 'company', 'date_received', 'state', 'consumer_disputed', 'company_public_response', 'sub_issue']\n",
    "Expecting =['product', 'complaint_what_happened', 'date_sent_to_company', 'issue', 'sub_product', 'zip_code', 'tags', 'complaint_id', 'timely', 'consumer_consent_provided', 'company_response', 'submitted_via', 'company', 'date_received', 'state', 'company_public_response', 'sub_issue', 'consumer_disputed']"
   ]
  },
  {
   "cell_type": "code",
   "execution_count": 6,
   "metadata": {},
   "outputs": [
    {
     "data": {
      "text/plain": [
       "True"
      ]
     },
     "execution_count": 6,
     "metadata": {},
     "output_type": "execute_result"
    },
    {
     "ename": "",
     "evalue": "",
     "output_type": "error",
     "traceback": [
      "\u001b[1;31mThe Kernel crashed while executing code in the current cell or a previous cell. \n",
      "\u001b[1;31mPlease review the code in the cell(s) to identify a possible cause of the failure. \n",
      "\u001b[1;31mClick <a href='https://aka.ms/vscodeJupyterKernelCrash'>here</a> for more info. \n",
      "\u001b[1;31mView Jupyter <a href='command:jupyter.viewOutput'>log</a> for further details."
     ]
    }
   ],
   "source": [
    "from FinancialComplaints.utils.utils import check_lists_match\n",
    "# check_lists_match(Actual ,Expecting)\n",
    "are_same = all(element in Expecting for element in Actual)\n",
    "are_same"
   ]
  },
  {
   "cell_type": "code",
   "execution_count": 2,
   "metadata": {},
   "outputs": [
    {
     "name": "stdout",
     "output_type": "stream",
     "text": [
      "   A  B\n",
      "0  1  4\n",
      "1  2  5\n",
      "2  3  6\n"
     ]
    }
   ],
   "source": [
    "import pandas as pd\n",
    "\n",
    "# Example DataFrame\n",
    "df = pd.DataFrame({\n",
    "    'A': [1, 2, 3],\n",
    "    'B': [4, 5, 6],\n",
    "    'C': [7, 8, 9]\n",
    "})\n",
    "\n",
    "# Filtering columns by name\n",
    "filtered_df = df.filter(items=['A', 'B'])\n",
    "print(filtered_df)"
   ]
  },
  {
   "cell_type": "code",
   "execution_count": 15,
   "metadata": {},
   "outputs": [
    {
     "name": "stdout",
     "output_type": "stream",
     "text": [
      "   A  B\n",
      "0  1  4\n",
      "1  2  5\n",
      "2  3  6\n"
     ]
    }
   ],
   "source": [
    "path = r\"D:\\Data Science\\MachineLearning\\Project\\FinancialInstituePrediction\\artifact\\data_validation\\accepted_data\\2024-06-25-20-01-45\\data.csv\"\n",
    "import pandas  as pd\n",
    "import numpy as np\n",
    "import pandas as pd\n",
    "from sklearn.base import BaseEstimator, TransformerMixin\n",
    "\n",
    "class CustomTransformer(BaseEstimator, TransformerMixin):\n",
    "    def __init__(self, add_feature=True):\n",
    "        self.add_feature = add_feature\n",
    "\n",
    "    def fit(self, X, y=None):\n",
    "        # This transformer doesn't need to learn anything from the data, so fit does nothing\n",
    "        return self\n",
    "\n",
    "    def transform(self, X, y=None):\n",
    "        X_transformed = X.copy()\n",
    "        if self.add_feature:\n",
    "            # Example: Add a new feature which is the sum of all columns\n",
    "            X_transformed['sums'] = X_transformed.sum(axis=1)\n",
    "        return X_transformed\n",
    "\n",
    "# Example DataFrame\n",
    "df = pd.DataFrame({\n",
    "    'A': [1, 2, 3],\n",
    "    'B': [4, 5, 6]\n",
    "})\n",
    "\n",
    "# Instantiate and apply the custom transformer\n",
    "transformer = CustomTransformer(add_feature=False)\n",
    "df_transformed = transformer.fit_transform(df)\n",
    "\n",
    "print(df_transformed)"
   ]
  },
  {
   "cell_type": "code",
   "execution_count": 14,
   "metadata": {},
   "outputs": [
    {
     "name": "stdout",
     "output_type": "stream",
     "text": [
      "   A  B  sum\n",
      "0  1  4    5\n",
      "1  2  5    7\n",
      "2  3  6    9\n"
     ]
    }
   ],
   "source": [
    "import pandas as pd\n",
    "\n",
    "class SimpleTransformer:\n",
    "    def __init__(self, add_feature=True):\n",
    "        self.add_feature = add_feature\n",
    "\n",
    "    def fit(self, X, y=None):\n",
    "        # No fitting necessary for this simple example\n",
    "        return self\n",
    "\n",
    "    def transform(self, X, y=None):\n",
    "        X_transformed = X.copy()\n",
    "        if self.add_feature:\n",
    "            # Example transformation: adding a column with the sum of all columns\n",
    "            X_transformed['sum'] = X_transformed.sum(axis=1)\n",
    "        return X_transformed\n",
    "\n",
    "    def fit_transform(self, X, y=None):\n",
    "        return self.fit(X, y).transform(X)\n",
    "\n",
    "# Example DataFrame\n",
    "df = pd.DataFrame({\n",
    "    'A': [1, 2, 3],\n",
    "    'B': [4, 5, 6]\n",
    "})\n",
    "\n",
    "# Instantiate and apply the custom transformer\n",
    "transformer = SimpleTransformer(add_feature=True)\n",
    "df_transformed = transformer.fit_transform(df)\n",
    "\n",
    "print(df_transformed)"
   ]
  },
  {
   "cell_type": "code",
   "execution_count": null,
   "metadata": {},
   "outputs": [],
   "source": []
  },
  {
   "cell_type": "code",
   "execution_count": 20,
   "metadata": {},
   "outputs": [
    {
     "data": {
      "text/plain": [
       "'My car brand is Toyota and color is Red and model is Camry'"
      ]
     },
     "execution_count": 20,
     "metadata": {},
     "output_type": "execute_result"
    }
   ],
   "source": [
    "class Vehicle():\n",
    "    def __init__(self ,brand ,model):\n",
    "        self.brand = brand \n",
    "        self.model = model \n",
    "\n",
    "    def funk1(self):\n",
    "        return f\"My car brand is {self.brand} and color is {self.model}\"\n",
    "    \n",
    "class Car(Vehicle):\n",
    "    def __init__(self ,brand ,model ,color):\n",
    "        super().__init__(brand ,model)\n",
    "        self.color = color \n",
    "    def funk2(self):\n",
    "        return f\"My car brand is {self.brand} and color is {self.color} and model is {self.model}\"\n",
    "    \n",
    "abc =  Car(\"Toyota\", \"Camry\", \"Red\")\n",
    "abc.funk1()\n",
    "abc.funk2()"
   ]
  },
  {
   "cell_type": "code",
   "execution_count": 33,
   "metadata": {},
   "outputs": [
    {
     "data": {
      "text/plain": [
       "['product',\n",
       " 'complaint_what_happened',\n",
       " 'date_sent_to_company',\n",
       " 'issue',\n",
       " 'sub_product',\n",
       " 'zip_code',\n",
       " 'tags',\n",
       " 'complaint_id',\n",
       " 'timely',\n",
       " 'consumer_consent_provided',\n",
       " 'company_response',\n",
       " 'submitted_via',\n",
       " 'company',\n",
       " 'date_received',\n",
       " 'state',\n",
       " 'company_public_response',\n",
       " 'sub_issue',\n",
       " 'consumer_disputed']"
      ]
     },
     "execution_count": 33,
     "metadata": {},
     "output_type": "execute_result"
    }
   ],
   "source": [
    "path = r\"D:\\Data Science\\MachineLearning\\Project\\FinancialInstituePrediction\\config\\schema.yaml\"\n",
    "from FinancialComplaints.utils.utils import read_yaml \n",
    "schema_file_content = read_yaml(path)\n",
    "expecting_columns =list(schema_file_content['columns'].keys())\n",
    "target_columns =list(schema_file_content['target_columns'].keys())\n",
    "abc = expecting_columns.append(target_columns[0])\n",
    "expecting_columns"
   ]
  },
  {
   "cell_type": "code",
   "execution_count": 7,
   "metadata": {},
   "outputs": [
    {
     "data": {
      "text/html": [
       "<div>\n",
       "<style scoped>\n",
       "    .dataframe tbody tr th:only-of-type {\n",
       "        vertical-align: middle;\n",
       "    }\n",
       "\n",
       "    .dataframe tbody tr th {\n",
       "        vertical-align: top;\n",
       "    }\n",
       "\n",
       "    .dataframe thead th {\n",
       "        text-align: right;\n",
       "    }\n",
       "</style>\n",
       "<table border=\"1\" class=\"dataframe\">\n",
       "  <thead>\n",
       "    <tr style=\"text-align: right;\">\n",
       "      <th></th>\n",
       "      <th>product</th>\n",
       "      <th>complaint_what_happened</th>\n",
       "      <th>date_sent_to_company</th>\n",
       "      <th>issue</th>\n",
       "      <th>sub_product</th>\n",
       "      <th>zip_code</th>\n",
       "      <th>tags</th>\n",
       "      <th>complaint_id</th>\n",
       "      <th>timely</th>\n",
       "      <th>consumer_consent_provided</th>\n",
       "      <th>company_response</th>\n",
       "      <th>submitted_via</th>\n",
       "      <th>company</th>\n",
       "      <th>date_received</th>\n",
       "      <th>state</th>\n",
       "      <th>consumer_disputed</th>\n",
       "      <th>company_public_response</th>\n",
       "      <th>sub_issue</th>\n",
       "    </tr>\n",
       "  </thead>\n",
       "  <tbody>\n",
       "    <tr>\n",
       "      <th>0</th>\n",
       "      <td>Credit reporting, credit repair services, or o...</td>\n",
       "      <td>NaN</td>\n",
       "      <td>2021-02-01T12:00:00-05:00</td>\n",
       "      <td>Incorrect information on your report</td>\n",
       "      <td>Credit reporting</td>\n",
       "      <td>17815</td>\n",
       "      <td>NaN</td>\n",
       "      <td>4108597</td>\n",
       "      <td>Yes</td>\n",
       "      <td>Consent not provided</td>\n",
       "      <td>Closed with explanation</td>\n",
       "      <td>Web</td>\n",
       "      <td>TRANSUNION INTERMEDIATE HOLDINGS, INC.</td>\n",
       "      <td>2021-02-01T12:00:00-05:00</td>\n",
       "      <td>PA</td>\n",
       "      <td>NaN</td>\n",
       "      <td>Company has responded to the consumer and the ...</td>\n",
       "      <td>Information belongs to someone else</td>\n",
       "    </tr>\n",
       "    <tr>\n",
       "      <th>1</th>\n",
       "      <td>Credit reporting, credit repair services, or o...</td>\n",
       "      <td>NaN</td>\n",
       "      <td>2021-02-01T12:00:00-05:00</td>\n",
       "      <td>Incorrect information on your report</td>\n",
       "      <td>Credit reporting</td>\n",
       "      <td>34109</td>\n",
       "      <td>NaN</td>\n",
       "      <td>4108781</td>\n",
       "      <td>Yes</td>\n",
       "      <td>Consent not provided</td>\n",
       "      <td>Closed with explanation</td>\n",
       "      <td>Web</td>\n",
       "      <td>Shellpoint Partners, LLC</td>\n",
       "      <td>2021-02-01T12:00:00-05:00</td>\n",
       "      <td>FL</td>\n",
       "      <td>NaN</td>\n",
       "      <td>Company believes it acted appropriately as aut...</td>\n",
       "      <td>Account status incorrect</td>\n",
       "    </tr>\n",
       "    <tr>\n",
       "      <th>2</th>\n",
       "      <td>Credit reporting, credit repair services, or o...</td>\n",
       "      <td>NaN</td>\n",
       "      <td>2021-02-01T12:00:00-05:00</td>\n",
       "      <td>Incorrect information on your report</td>\n",
       "      <td>Credit reporting</td>\n",
       "      <td>07901</td>\n",
       "      <td>NaN</td>\n",
       "      <td>4108020</td>\n",
       "      <td>Yes</td>\n",
       "      <td>Consent not provided</td>\n",
       "      <td>Closed with explanation</td>\n",
       "      <td>Web</td>\n",
       "      <td>EQUIFAX, INC.</td>\n",
       "      <td>2021-02-01T12:00:00-05:00</td>\n",
       "      <td>NJ</td>\n",
       "      <td>NaN</td>\n",
       "      <td>NaN</td>\n",
       "      <td>Information belongs to someone else</td>\n",
       "    </tr>\n",
       "    <tr>\n",
       "      <th>3</th>\n",
       "      <td>Checking or savings account</td>\n",
       "      <td>NaN</td>\n",
       "      <td>2021-02-01T12:00:00-05:00</td>\n",
       "      <td>Managing an account</td>\n",
       "      <td>Other banking product or service</td>\n",
       "      <td>02857</td>\n",
       "      <td>Older American</td>\n",
       "      <td>4108030</td>\n",
       "      <td>Yes</td>\n",
       "      <td>Consent not provided</td>\n",
       "      <td>Closed with explanation</td>\n",
       "      <td>Web</td>\n",
       "      <td>BANK OF AMERICA, NATIONAL ASSOCIATION</td>\n",
       "      <td>2021-02-01T12:00:00-05:00</td>\n",
       "      <td>RI</td>\n",
       "      <td>NaN</td>\n",
       "      <td>Company has responded to the consumer and the ...</td>\n",
       "      <td>Funds not handled or disbursed as instructed</td>\n",
       "    </tr>\n",
       "    <tr>\n",
       "      <th>4</th>\n",
       "      <td>Credit reporting, credit repair services, or o...</td>\n",
       "      <td>Im submitting this complaint due to inaccurate...</td>\n",
       "      <td>2021-02-01T12:00:00-05:00</td>\n",
       "      <td>Incorrect information on your report</td>\n",
       "      <td>Credit reporting</td>\n",
       "      <td>42420</td>\n",
       "      <td>NaN</td>\n",
       "      <td>4108257</td>\n",
       "      <td>Yes</td>\n",
       "      <td>Consent provided</td>\n",
       "      <td>Closed with explanation</td>\n",
       "      <td>Web</td>\n",
       "      <td>TRANSUNION INTERMEDIATE HOLDINGS, INC.</td>\n",
       "      <td>2021-02-01T12:00:00-05:00</td>\n",
       "      <td>KY</td>\n",
       "      <td>NaN</td>\n",
       "      <td>Company has responded to the consumer and the ...</td>\n",
       "      <td>Account information incorrect</td>\n",
       "    </tr>\n",
       "  </tbody>\n",
       "</table>\n",
       "</div>"
      ],
      "text/plain": [
       "                                             product  \\\n",
       "0  Credit reporting, credit repair services, or o...   \n",
       "1  Credit reporting, credit repair services, or o...   \n",
       "2  Credit reporting, credit repair services, or o...   \n",
       "3                        Checking or savings account   \n",
       "4  Credit reporting, credit repair services, or o...   \n",
       "\n",
       "                             complaint_what_happened  \\\n",
       "0                                                NaN   \n",
       "1                                                NaN   \n",
       "2                                                NaN   \n",
       "3                                                NaN   \n",
       "4  Im submitting this complaint due to inaccurate...   \n",
       "\n",
       "        date_sent_to_company                                 issue  \\\n",
       "0  2021-02-01T12:00:00-05:00  Incorrect information on your report   \n",
       "1  2021-02-01T12:00:00-05:00  Incorrect information on your report   \n",
       "2  2021-02-01T12:00:00-05:00  Incorrect information on your report   \n",
       "3  2021-02-01T12:00:00-05:00                   Managing an account   \n",
       "4  2021-02-01T12:00:00-05:00  Incorrect information on your report   \n",
       "\n",
       "                        sub_product zip_code            tags  complaint_id  \\\n",
       "0                  Credit reporting    17815             NaN       4108597   \n",
       "1                  Credit reporting    34109             NaN       4108781   \n",
       "2                  Credit reporting    07901             NaN       4108020   \n",
       "3  Other banking product or service    02857  Older American       4108030   \n",
       "4                  Credit reporting    42420             NaN       4108257   \n",
       "\n",
       "  timely consumer_consent_provided         company_response submitted_via  \\\n",
       "0    Yes      Consent not provided  Closed with explanation           Web   \n",
       "1    Yes      Consent not provided  Closed with explanation           Web   \n",
       "2    Yes      Consent not provided  Closed with explanation           Web   \n",
       "3    Yes      Consent not provided  Closed with explanation           Web   \n",
       "4    Yes          Consent provided  Closed with explanation           Web   \n",
       "\n",
       "                                  company              date_received state  \\\n",
       "0  TRANSUNION INTERMEDIATE HOLDINGS, INC.  2021-02-01T12:00:00-05:00    PA   \n",
       "1                Shellpoint Partners, LLC  2021-02-01T12:00:00-05:00    FL   \n",
       "2                           EQUIFAX, INC.  2021-02-01T12:00:00-05:00    NJ   \n",
       "3   BANK OF AMERICA, NATIONAL ASSOCIATION  2021-02-01T12:00:00-05:00    RI   \n",
       "4  TRANSUNION INTERMEDIATE HOLDINGS, INC.  2021-02-01T12:00:00-05:00    KY   \n",
       "\n",
       "   consumer_disputed                            company_public_response  \\\n",
       "0                NaN  Company has responded to the consumer and the ...   \n",
       "1                NaN  Company believes it acted appropriately as aut...   \n",
       "2                NaN                                                NaN   \n",
       "3                NaN  Company has responded to the consumer and the ...   \n",
       "4                NaN  Company has responded to the consumer and the ...   \n",
       "\n",
       "                                      sub_issue  \n",
       "0           Information belongs to someone else  \n",
       "1                      Account status incorrect  \n",
       "2           Information belongs to someone else  \n",
       "3  Funds not handled or disbursed as instructed  \n",
       "4                 Account information incorrect  "
      ]
     },
     "execution_count": 7,
     "metadata": {},
     "output_type": "execute_result"
    }
   ],
   "source": [
    "abc = r\"D:\\Data Science\\MachineLearning\\Project\\FinancialInstituePrediction\\artifact\\data_validation\\accepted_data\\2024-06-25-22-49-18\\data.csv\"\n",
    "import pandas as pd \n",
    "data = pd.read_csv(abc)\n",
    "data.head()"
   ]
  },
  {
   "cell_type": "code",
   "execution_count": 37,
   "metadata": {},
   "outputs": [
    {
     "data": {
      "text/plain": [
       "0       0 days\n",
       "1       0 days\n",
       "2       0 days\n",
       "3       0 days\n",
       "4       0 days\n",
       "         ...  \n",
       "1910    0 days\n",
       "1911   22 days\n",
       "1912    0 days\n",
       "1913    0 days\n",
       "1914    0 days\n",
       "Length: 1915, dtype: timedelta64[ns]"
      ]
     },
     "execution_count": 37,
     "metadata": {},
     "output_type": "execute_result"
    }
   ],
   "source": [
    "pd.to_datetime(data.iloc[: ,2]) - pd.to_datetime(data.iloc[: ,13])"
   ]
  },
  {
   "cell_type": "code",
   "execution_count": 40,
   "metadata": {},
   "outputs": [
    {
     "data": {
      "text/plain": [
       "0    2021-02-01 12:00:00-05:00\n",
       "1    2021-02-01 12:00:00-05:00\n",
       "2    2021-02-01 12:00:00-05:00\n",
       "3    2021-02-01 12:00:00-05:00\n",
       "4    2021-02-01 12:00:00-05:00\n",
       "5    2021-02-01 12:00:00-05:00\n",
       "6    2021-02-01 12:00:00-05:00\n",
       "7    2021-02-01 12:00:00-05:00\n",
       "8    2021-02-01 12:00:00-05:00\n",
       "9    2021-02-01 12:00:00-05:00\n",
       "10   2021-02-01 12:00:00-05:00\n",
       "11   2021-02-01 12:00:00-05:00\n",
       "12   2021-02-01 12:00:00-05:00\n",
       "13   2021-02-01 12:00:00-05:00\n",
       "14   2021-02-01 12:00:00-05:00\n",
       "15   2021-01-31 12:00:00-05:00\n",
       "16   2021-01-31 12:00:00-05:00\n",
       "17   2021-01-31 12:00:00-05:00\n",
       "18   2021-01-31 12:00:00-05:00\n",
       "19   2021-01-31 12:00:00-05:00\n",
       "20   2021-01-31 12:00:00-05:00\n",
       "21   2021-02-01 12:00:00-05:00\n",
       "22   2021-02-01 12:00:00-05:00\n",
       "23   2021-01-31 12:00:00-05:00\n",
       "24   2021-01-31 12:00:00-05:00\n",
       "25   2021-01-31 12:00:00-05:00\n",
       "26   2021-02-01 12:00:00-05:00\n",
       "27   2021-02-01 12:00:00-05:00\n",
       "28   2021-02-01 12:00:00-05:00\n",
       "29   2021-02-01 12:00:00-05:00\n",
       "30   2021-02-01 12:00:00-05:00\n",
       "31   2021-02-01 12:00:00-05:00\n",
       "32   2021-02-01 12:00:00-05:00\n",
       "33   2021-02-01 12:00:00-05:00\n",
       "34   2021-02-01 12:00:00-05:00\n",
       "35   2021-02-01 12:00:00-05:00\n",
       "36   2021-02-01 12:00:00-05:00\n",
       "37   2021-02-01 12:00:00-05:00\n",
       "38   2021-02-01 12:00:00-05:00\n",
       "39   2021-02-01 12:00:00-05:00\n",
       "40   2021-02-01 12:00:00-05:00\n",
       "41   2021-02-01 12:00:00-05:00\n",
       "42   2021-02-01 12:00:00-05:00\n",
       "43   2021-02-01 12:00:00-05:00\n",
       "44   2021-02-01 12:00:00-05:00\n",
       "45   2021-02-01 12:00:00-05:00\n",
       "46   2021-01-31 12:00:00-05:00\n",
       "47   2021-01-31 12:00:00-05:00\n",
       "48   2021-01-31 12:00:00-05:00\n",
       "49   2021-01-31 12:00:00-05:00\n",
       "Name: date_received, dtype: datetime64[ns, UTC-05:00]"
      ]
     },
     "execution_count": 40,
     "metadata": {},
     "output_type": "execute_result"
    }
   ],
   "source": [
    "pd.to_datetime(data.iloc[: ,13])[:50]"
   ]
  },
  {
   "cell_type": "code",
   "execution_count": 39,
   "metadata": {},
   "outputs": [
    {
     "data": {
      "text/plain": [
       "0    2021-02-01 12:00:00-05:00\n",
       "1    2021-02-01 12:00:00-05:00\n",
       "2    2021-02-01 12:00:00-05:00\n",
       "3    2021-02-01 12:00:00-05:00\n",
       "4    2021-02-01 12:00:00-05:00\n",
       "5    2021-02-01 12:00:00-05:00\n",
       "6    2021-02-01 12:00:00-05:00\n",
       "7    2021-02-01 12:00:00-05:00\n",
       "8    2021-02-01 12:00:00-05:00\n",
       "9    2021-02-02 12:00:00-05:00\n",
       "10   2021-02-01 12:00:00-05:00\n",
       "11   2021-02-01 12:00:00-05:00\n",
       "12   2021-02-01 12:00:00-05:00\n",
       "13   2021-02-01 12:00:00-05:00\n",
       "14   2021-02-01 12:00:00-05:00\n",
       "15   2021-01-31 12:00:00-05:00\n",
       "16   2021-02-02 12:00:00-05:00\n",
       "17   2021-01-31 12:00:00-05:00\n",
       "18   2021-01-31 12:00:00-05:00\n",
       "19   2021-01-31 12:00:00-05:00\n",
       "20   2021-01-31 12:00:00-05:00\n",
       "21   2021-02-01 12:00:00-05:00\n",
       "22   2021-02-01 12:00:00-05:00\n",
       "23   2021-01-31 12:00:00-05:00\n",
       "24   2021-01-31 12:00:00-05:00\n",
       "25   2021-01-31 12:00:00-05:00\n",
       "26   2021-02-01 12:00:00-05:00\n",
       "27   2021-02-22 12:00:00-05:00\n",
       "28   2021-02-01 12:00:00-05:00\n",
       "29   2021-02-01 12:00:00-05:00\n",
       "30   2021-02-01 12:00:00-05:00\n",
       "31   2021-02-03 12:00:00-05:00\n",
       "32   2021-02-01 12:00:00-05:00\n",
       "33   2021-02-01 12:00:00-05:00\n",
       "34   2021-02-01 12:00:00-05:00\n",
       "35   2021-02-01 12:00:00-05:00\n",
       "36   2021-02-01 12:00:00-05:00\n",
       "37   2021-02-01 12:00:00-05:00\n",
       "38   2021-02-01 12:00:00-05:00\n",
       "39   2021-02-01 12:00:00-05:00\n",
       "40   2021-02-01 12:00:00-05:00\n",
       "41   2021-02-01 12:00:00-05:00\n",
       "42   2021-02-04 12:00:00-05:00\n",
       "43   2021-02-01 12:00:00-05:00\n",
       "44   2021-02-01 12:00:00-05:00\n",
       "45   2021-02-01 12:00:00-05:00\n",
       "46   2021-01-31 12:00:00-05:00\n",
       "47   2021-02-01 12:00:00-05:00\n",
       "48   2021-01-31 12:00:00-05:00\n",
       "49   2021-01-31 12:00:00-05:00\n",
       "Name: date_sent_to_company, dtype: datetime64[ns, UTC-05:00]"
      ]
     },
     "execution_count": 39,
     "metadata": {},
     "output_type": "execute_result"
    }
   ],
   "source": [
    "pd.to_datetime(data.iloc[: ,2])[:50]"
   ]
  },
  {
   "cell_type": "code",
   "execution_count": 32,
   "metadata": {},
   "outputs": [
    {
     "data": {
      "text/plain": [
       "Timestamp('2021-02-01 00:00:00')"
      ]
     },
     "execution_count": 32,
     "metadata": {},
     "output_type": "execute_result"
    }
   ],
   "source": [
    "# pd.to_datetime(data['date_sent_to_company']).dt.strftime('%Y-%m-%d')[0].strftime()\n",
    "pd.to_datetime(pd.to_datetime(data['date_sent_to_company']).dt.strftime('%Y-%m-%d')[0])"
   ]
  },
  {
   "cell_type": "code",
   "execution_count": 3,
   "metadata": {},
   "outputs": [
    {
     "data": {
      "text/plain": [
       "'data.csv'"
      ]
     },
     "execution_count": 3,
     "metadata": {},
     "output_type": "execute_result"
    }
   ],
   "source": [
    "path =r\"D:\\Data Science\\MachineLearning\\Project\\FinancialInstituePrediction\\artifact\\data_validation\\accepted_data\\2024-06-25-22-49-18\"\n",
    "import os \n",
    "os.listdir(path)[0]"
   ]
  }
 ],
 "metadata": {
  "kernelspec": {
   "display_name": "venv",
   "language": "python",
   "name": "python3"
  },
  "language_info": {
   "codemirror_mode": {
    "name": "ipython",
    "version": 3
   },
   "file_extension": ".py",
   "mimetype": "text/x-python",
   "name": "python",
   "nbconvert_exporter": "python",
   "pygments_lexer": "ipython3",
   "version": "3.10.0"
  }
 },
 "nbformat": 4,
 "nbformat_minor": 2
}
